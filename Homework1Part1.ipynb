{
  "nbformat": 4,
  "nbformat_minor": 0,
  "metadata": {
    "accelerator": "GPU",
    "colab": {
      "name": "Homework1Part1.ipynb",
      "provenance": [],
      "collapsed_sections": []
    },
    "kernelspec": {
      "display_name": "Python 3",
      "language": "python",
      "name": "python3"
    },
    "language_info": {
      "codemirror_mode": {
        "name": "ipython",
        "version": 3
      },
      "file_extension": ".py",
      "mimetype": "text/x-python",
      "name": "python",
      "nbconvert_exporter": "python",
      "pygments_lexer": "ipython3",
      "version": "3.7.3"
    },
    "widgets": {
      "application/vnd.jupyter.widget-state+json": {
        "d150f63e8da94e9eb0a95b6ca191fb5b": {
          "model_module": "@jupyter-widgets/controls",
          "model_name": "HBoxModel",
          "state": {
            "_view_name": "HBoxView",
            "_dom_classes": [],
            "_model_name": "HBoxModel",
            "_view_module": "@jupyter-widgets/controls",
            "_model_module_version": "1.5.0",
            "_view_count": null,
            "_view_module_version": "1.5.0",
            "box_style": "",
            "layout": "IPY_MODEL_09418ec9b2e1409eaf8b1076c4fd9063",
            "_model_module": "@jupyter-widgets/controls",
            "children": [
              "IPY_MODEL_da097454195c40109fe74c73ed0f6104",
              "IPY_MODEL_3cd6377e13694087bda16227873839e8"
            ]
          }
        },
        "09418ec9b2e1409eaf8b1076c4fd9063": {
          "model_module": "@jupyter-widgets/base",
          "model_name": "LayoutModel",
          "state": {
            "_view_name": "LayoutView",
            "grid_template_rows": null,
            "right": null,
            "justify_content": null,
            "_view_module": "@jupyter-widgets/base",
            "overflow": null,
            "_model_module_version": "1.2.0",
            "_view_count": null,
            "flex_flow": null,
            "width": null,
            "min_width": null,
            "border": null,
            "align_items": null,
            "bottom": null,
            "_model_module": "@jupyter-widgets/base",
            "top": null,
            "grid_column": null,
            "overflow_y": null,
            "overflow_x": null,
            "grid_auto_flow": null,
            "grid_area": null,
            "grid_template_columns": null,
            "flex": null,
            "_model_name": "LayoutModel",
            "justify_items": null,
            "grid_row": null,
            "max_height": null,
            "align_content": null,
            "visibility": null,
            "align_self": null,
            "height": null,
            "min_height": null,
            "padding": null,
            "grid_auto_rows": null,
            "grid_gap": null,
            "max_width": null,
            "order": null,
            "_view_module_version": "1.2.0",
            "grid_template_areas": null,
            "object_position": null,
            "object_fit": null,
            "grid_auto_columns": null,
            "margin": null,
            "display": null,
            "left": null
          }
        },
        "da097454195c40109fe74c73ed0f6104": {
          "model_module": "@jupyter-widgets/controls",
          "model_name": "FloatProgressModel",
          "state": {
            "_view_name": "ProgressView",
            "style": "IPY_MODEL_687be2ab97c945b1b68230595a8012e3",
            "_dom_classes": [],
            "description": "",
            "_model_name": "FloatProgressModel",
            "bar_style": "success",
            "max": 1,
            "_view_module": "@jupyter-widgets/controls",
            "_model_module_version": "1.5.0",
            "value": 1,
            "_view_count": null,
            "_view_module_version": "1.5.0",
            "orientation": "horizontal",
            "min": 0,
            "description_tooltip": null,
            "_model_module": "@jupyter-widgets/controls",
            "layout": "IPY_MODEL_2c3bb4cd1ba04305a071eeda24d1bb7b"
          }
        },
        "3cd6377e13694087bda16227873839e8": {
          "model_module": "@jupyter-widgets/controls",
          "model_name": "HTMLModel",
          "state": {
            "_view_name": "HTMLView",
            "style": "IPY_MODEL_86efc460c3ed48b08941a48fb904ecd5",
            "_dom_classes": [],
            "description": "",
            "_model_name": "HTMLModel",
            "placeholder": "​",
            "_view_module": "@jupyter-widgets/controls",
            "_model_module_version": "1.5.0",
            "value": " 9920512/? [00:03&lt;00:00, 2640322.22it/s]",
            "_view_count": null,
            "_view_module_version": "1.5.0",
            "description_tooltip": null,
            "_model_module": "@jupyter-widgets/controls",
            "layout": "IPY_MODEL_b25f20a96356459c81e120a9210ff261"
          }
        },
        "687be2ab97c945b1b68230595a8012e3": {
          "model_module": "@jupyter-widgets/controls",
          "model_name": "ProgressStyleModel",
          "state": {
            "_view_name": "StyleView",
            "_model_name": "ProgressStyleModel",
            "description_width": "initial",
            "_view_module": "@jupyter-widgets/base",
            "_model_module_version": "1.5.0",
            "_view_count": null,
            "_view_module_version": "1.2.0",
            "bar_color": null,
            "_model_module": "@jupyter-widgets/controls"
          }
        },
        "2c3bb4cd1ba04305a071eeda24d1bb7b": {
          "model_module": "@jupyter-widgets/base",
          "model_name": "LayoutModel",
          "state": {
            "_view_name": "LayoutView",
            "grid_template_rows": null,
            "right": null,
            "justify_content": null,
            "_view_module": "@jupyter-widgets/base",
            "overflow": null,
            "_model_module_version": "1.2.0",
            "_view_count": null,
            "flex_flow": null,
            "width": null,
            "min_width": null,
            "border": null,
            "align_items": null,
            "bottom": null,
            "_model_module": "@jupyter-widgets/base",
            "top": null,
            "grid_column": null,
            "overflow_y": null,
            "overflow_x": null,
            "grid_auto_flow": null,
            "grid_area": null,
            "grid_template_columns": null,
            "flex": null,
            "_model_name": "LayoutModel",
            "justify_items": null,
            "grid_row": null,
            "max_height": null,
            "align_content": null,
            "visibility": null,
            "align_self": null,
            "height": null,
            "min_height": null,
            "padding": null,
            "grid_auto_rows": null,
            "grid_gap": null,
            "max_width": null,
            "order": null,
            "_view_module_version": "1.2.0",
            "grid_template_areas": null,
            "object_position": null,
            "object_fit": null,
            "grid_auto_columns": null,
            "margin": null,
            "display": null,
            "left": null
          }
        },
        "86efc460c3ed48b08941a48fb904ecd5": {
          "model_module": "@jupyter-widgets/controls",
          "model_name": "DescriptionStyleModel",
          "state": {
            "_view_name": "StyleView",
            "_model_name": "DescriptionStyleModel",
            "description_width": "",
            "_view_module": "@jupyter-widgets/base",
            "_model_module_version": "1.5.0",
            "_view_count": null,
            "_view_module_version": "1.2.0",
            "_model_module": "@jupyter-widgets/controls"
          }
        },
        "b25f20a96356459c81e120a9210ff261": {
          "model_module": "@jupyter-widgets/base",
          "model_name": "LayoutModel",
          "state": {
            "_view_name": "LayoutView",
            "grid_template_rows": null,
            "right": null,
            "justify_content": null,
            "_view_module": "@jupyter-widgets/base",
            "overflow": null,
            "_model_module_version": "1.2.0",
            "_view_count": null,
            "flex_flow": null,
            "width": null,
            "min_width": null,
            "border": null,
            "align_items": null,
            "bottom": null,
            "_model_module": "@jupyter-widgets/base",
            "top": null,
            "grid_column": null,
            "overflow_y": null,
            "overflow_x": null,
            "grid_auto_flow": null,
            "grid_area": null,
            "grid_template_columns": null,
            "flex": null,
            "_model_name": "LayoutModel",
            "justify_items": null,
            "grid_row": null,
            "max_height": null,
            "align_content": null,
            "visibility": null,
            "align_self": null,
            "height": null,
            "min_height": null,
            "padding": null,
            "grid_auto_rows": null,
            "grid_gap": null,
            "max_width": null,
            "order": null,
            "_view_module_version": "1.2.0",
            "grid_template_areas": null,
            "object_position": null,
            "object_fit": null,
            "grid_auto_columns": null,
            "margin": null,
            "display": null,
            "left": null
          }
        },
        "7788c8cfd2f84b7d8a0891c1373e0aca": {
          "model_module": "@jupyter-widgets/controls",
          "model_name": "HBoxModel",
          "state": {
            "_view_name": "HBoxView",
            "_dom_classes": [],
            "_model_name": "HBoxModel",
            "_view_module": "@jupyter-widgets/controls",
            "_model_module_version": "1.5.0",
            "_view_count": null,
            "_view_module_version": "1.5.0",
            "box_style": "",
            "layout": "IPY_MODEL_2f9dc0948b784253bf65c4403a13e14a",
            "_model_module": "@jupyter-widgets/controls",
            "children": [
              "IPY_MODEL_e8b10327882f47e7a5bfe5d94d551fd2",
              "IPY_MODEL_7713dd8eeb1c41b69cbc6c2de61e6ec3"
            ]
          }
        },
        "2f9dc0948b784253bf65c4403a13e14a": {
          "model_module": "@jupyter-widgets/base",
          "model_name": "LayoutModel",
          "state": {
            "_view_name": "LayoutView",
            "grid_template_rows": null,
            "right": null,
            "justify_content": null,
            "_view_module": "@jupyter-widgets/base",
            "overflow": null,
            "_model_module_version": "1.2.0",
            "_view_count": null,
            "flex_flow": null,
            "width": null,
            "min_width": null,
            "border": null,
            "align_items": null,
            "bottom": null,
            "_model_module": "@jupyter-widgets/base",
            "top": null,
            "grid_column": null,
            "overflow_y": null,
            "overflow_x": null,
            "grid_auto_flow": null,
            "grid_area": null,
            "grid_template_columns": null,
            "flex": null,
            "_model_name": "LayoutModel",
            "justify_items": null,
            "grid_row": null,
            "max_height": null,
            "align_content": null,
            "visibility": null,
            "align_self": null,
            "height": null,
            "min_height": null,
            "padding": null,
            "grid_auto_rows": null,
            "grid_gap": null,
            "max_width": null,
            "order": null,
            "_view_module_version": "1.2.0",
            "grid_template_areas": null,
            "object_position": null,
            "object_fit": null,
            "grid_auto_columns": null,
            "margin": null,
            "display": null,
            "left": null
          }
        },
        "e8b10327882f47e7a5bfe5d94d551fd2": {
          "model_module": "@jupyter-widgets/controls",
          "model_name": "FloatProgressModel",
          "state": {
            "_view_name": "ProgressView",
            "style": "IPY_MODEL_86a76e7567ab4aaea456e01744fcd5d9",
            "_dom_classes": [],
            "description": "",
            "_model_name": "FloatProgressModel",
            "bar_style": "success",
            "max": 1,
            "_view_module": "@jupyter-widgets/controls",
            "_model_module_version": "1.5.0",
            "value": 1,
            "_view_count": null,
            "_view_module_version": "1.5.0",
            "orientation": "horizontal",
            "min": 0,
            "description_tooltip": null,
            "_model_module": "@jupyter-widgets/controls",
            "layout": "IPY_MODEL_a9adf7c8979a42de8e07c9ae61b01c4c"
          }
        },
        "7713dd8eeb1c41b69cbc6c2de61e6ec3": {
          "model_module": "@jupyter-widgets/controls",
          "model_name": "HTMLModel",
          "state": {
            "_view_name": "HTMLView",
            "style": "IPY_MODEL_f2a987594bc04e8bb333a1f9ef9a420e",
            "_dom_classes": [],
            "description": "",
            "_model_name": "HTMLModel",
            "placeholder": "​",
            "_view_module": "@jupyter-widgets/controls",
            "_model_module_version": "1.5.0",
            "value": " 32768/? [00:01&lt;00:00, 26143.19it/s]",
            "_view_count": null,
            "_view_module_version": "1.5.0",
            "description_tooltip": null,
            "_model_module": "@jupyter-widgets/controls",
            "layout": "IPY_MODEL_0f577ebc16524834b6c95df032a569a1"
          }
        },
        "86a76e7567ab4aaea456e01744fcd5d9": {
          "model_module": "@jupyter-widgets/controls",
          "model_name": "ProgressStyleModel",
          "state": {
            "_view_name": "StyleView",
            "_model_name": "ProgressStyleModel",
            "description_width": "initial",
            "_view_module": "@jupyter-widgets/base",
            "_model_module_version": "1.5.0",
            "_view_count": null,
            "_view_module_version": "1.2.0",
            "bar_color": null,
            "_model_module": "@jupyter-widgets/controls"
          }
        },
        "a9adf7c8979a42de8e07c9ae61b01c4c": {
          "model_module": "@jupyter-widgets/base",
          "model_name": "LayoutModel",
          "state": {
            "_view_name": "LayoutView",
            "grid_template_rows": null,
            "right": null,
            "justify_content": null,
            "_view_module": "@jupyter-widgets/base",
            "overflow": null,
            "_model_module_version": "1.2.0",
            "_view_count": null,
            "flex_flow": null,
            "width": null,
            "min_width": null,
            "border": null,
            "align_items": null,
            "bottom": null,
            "_model_module": "@jupyter-widgets/base",
            "top": null,
            "grid_column": null,
            "overflow_y": null,
            "overflow_x": null,
            "grid_auto_flow": null,
            "grid_area": null,
            "grid_template_columns": null,
            "flex": null,
            "_model_name": "LayoutModel",
            "justify_items": null,
            "grid_row": null,
            "max_height": null,
            "align_content": null,
            "visibility": null,
            "align_self": null,
            "height": null,
            "min_height": null,
            "padding": null,
            "grid_auto_rows": null,
            "grid_gap": null,
            "max_width": null,
            "order": null,
            "_view_module_version": "1.2.0",
            "grid_template_areas": null,
            "object_position": null,
            "object_fit": null,
            "grid_auto_columns": null,
            "margin": null,
            "display": null,
            "left": null
          }
        },
        "f2a987594bc04e8bb333a1f9ef9a420e": {
          "model_module": "@jupyter-widgets/controls",
          "model_name": "DescriptionStyleModel",
          "state": {
            "_view_name": "StyleView",
            "_model_name": "DescriptionStyleModel",
            "description_width": "",
            "_view_module": "@jupyter-widgets/base",
            "_model_module_version": "1.5.0",
            "_view_count": null,
            "_view_module_version": "1.2.0",
            "_model_module": "@jupyter-widgets/controls"
          }
        },
        "0f577ebc16524834b6c95df032a569a1": {
          "model_module": "@jupyter-widgets/base",
          "model_name": "LayoutModel",
          "state": {
            "_view_name": "LayoutView",
            "grid_template_rows": null,
            "right": null,
            "justify_content": null,
            "_view_module": "@jupyter-widgets/base",
            "overflow": null,
            "_model_module_version": "1.2.0",
            "_view_count": null,
            "flex_flow": null,
            "width": null,
            "min_width": null,
            "border": null,
            "align_items": null,
            "bottom": null,
            "_model_module": "@jupyter-widgets/base",
            "top": null,
            "grid_column": null,
            "overflow_y": null,
            "overflow_x": null,
            "grid_auto_flow": null,
            "grid_area": null,
            "grid_template_columns": null,
            "flex": null,
            "_model_name": "LayoutModel",
            "justify_items": null,
            "grid_row": null,
            "max_height": null,
            "align_content": null,
            "visibility": null,
            "align_self": null,
            "height": null,
            "min_height": null,
            "padding": null,
            "grid_auto_rows": null,
            "grid_gap": null,
            "max_width": null,
            "order": null,
            "_view_module_version": "1.2.0",
            "grid_template_areas": null,
            "object_position": null,
            "object_fit": null,
            "grid_auto_columns": null,
            "margin": null,
            "display": null,
            "left": null
          }
        },
        "249dd863d32d41a2b370432b200346b1": {
          "model_module": "@jupyter-widgets/controls",
          "model_name": "HBoxModel",
          "state": {
            "_view_name": "HBoxView",
            "_dom_classes": [],
            "_model_name": "HBoxModel",
            "_view_module": "@jupyter-widgets/controls",
            "_model_module_version": "1.5.0",
            "_view_count": null,
            "_view_module_version": "1.5.0",
            "box_style": "",
            "layout": "IPY_MODEL_9a317355259c4a168df68078aef61dac",
            "_model_module": "@jupyter-widgets/controls",
            "children": [
              "IPY_MODEL_7052d323851d4b82936b44e494f45291",
              "IPY_MODEL_2521b908a9c443518e15fb952ee6ea17"
            ]
          }
        },
        "9a317355259c4a168df68078aef61dac": {
          "model_module": "@jupyter-widgets/base",
          "model_name": "LayoutModel",
          "state": {
            "_view_name": "LayoutView",
            "grid_template_rows": null,
            "right": null,
            "justify_content": null,
            "_view_module": "@jupyter-widgets/base",
            "overflow": null,
            "_model_module_version": "1.2.0",
            "_view_count": null,
            "flex_flow": null,
            "width": null,
            "min_width": null,
            "border": null,
            "align_items": null,
            "bottom": null,
            "_model_module": "@jupyter-widgets/base",
            "top": null,
            "grid_column": null,
            "overflow_y": null,
            "overflow_x": null,
            "grid_auto_flow": null,
            "grid_area": null,
            "grid_template_columns": null,
            "flex": null,
            "_model_name": "LayoutModel",
            "justify_items": null,
            "grid_row": null,
            "max_height": null,
            "align_content": null,
            "visibility": null,
            "align_self": null,
            "height": null,
            "min_height": null,
            "padding": null,
            "grid_auto_rows": null,
            "grid_gap": null,
            "max_width": null,
            "order": null,
            "_view_module_version": "1.2.0",
            "grid_template_areas": null,
            "object_position": null,
            "object_fit": null,
            "grid_auto_columns": null,
            "margin": null,
            "display": null,
            "left": null
          }
        },
        "7052d323851d4b82936b44e494f45291": {
          "model_module": "@jupyter-widgets/controls",
          "model_name": "FloatProgressModel",
          "state": {
            "_view_name": "ProgressView",
            "style": "IPY_MODEL_e48587cadf2a4a7d835d08cfef8f300a",
            "_dom_classes": [],
            "description": "",
            "_model_name": "FloatProgressModel",
            "bar_style": "success",
            "max": 1,
            "_view_module": "@jupyter-widgets/controls",
            "_model_module_version": "1.5.0",
            "value": 1,
            "_view_count": null,
            "_view_module_version": "1.5.0",
            "orientation": "horizontal",
            "min": 0,
            "description_tooltip": null,
            "_model_module": "@jupyter-widgets/controls",
            "layout": "IPY_MODEL_0331541f206a4da78b2722a8035c293e"
          }
        },
        "2521b908a9c443518e15fb952ee6ea17": {
          "model_module": "@jupyter-widgets/controls",
          "model_name": "HTMLModel",
          "state": {
            "_view_name": "HTMLView",
            "style": "IPY_MODEL_9280989490d24974bfb25d1672992508",
            "_dom_classes": [],
            "description": "",
            "_model_name": "HTMLModel",
            "placeholder": "​",
            "_view_module": "@jupyter-widgets/controls",
            "_model_module_version": "1.5.0",
            "value": " 1654784/? [00:00&lt;00:00, 1855728.36it/s]",
            "_view_count": null,
            "_view_module_version": "1.5.0",
            "description_tooltip": null,
            "_model_module": "@jupyter-widgets/controls",
            "layout": "IPY_MODEL_2263269276b84604b009ae8d898ff3a0"
          }
        },
        "e48587cadf2a4a7d835d08cfef8f300a": {
          "model_module": "@jupyter-widgets/controls",
          "model_name": "ProgressStyleModel",
          "state": {
            "_view_name": "StyleView",
            "_model_name": "ProgressStyleModel",
            "description_width": "initial",
            "_view_module": "@jupyter-widgets/base",
            "_model_module_version": "1.5.0",
            "_view_count": null,
            "_view_module_version": "1.2.0",
            "bar_color": null,
            "_model_module": "@jupyter-widgets/controls"
          }
        },
        "0331541f206a4da78b2722a8035c293e": {
          "model_module": "@jupyter-widgets/base",
          "model_name": "LayoutModel",
          "state": {
            "_view_name": "LayoutView",
            "grid_template_rows": null,
            "right": null,
            "justify_content": null,
            "_view_module": "@jupyter-widgets/base",
            "overflow": null,
            "_model_module_version": "1.2.0",
            "_view_count": null,
            "flex_flow": null,
            "width": null,
            "min_width": null,
            "border": null,
            "align_items": null,
            "bottom": null,
            "_model_module": "@jupyter-widgets/base",
            "top": null,
            "grid_column": null,
            "overflow_y": null,
            "overflow_x": null,
            "grid_auto_flow": null,
            "grid_area": null,
            "grid_template_columns": null,
            "flex": null,
            "_model_name": "LayoutModel",
            "justify_items": null,
            "grid_row": null,
            "max_height": null,
            "align_content": null,
            "visibility": null,
            "align_self": null,
            "height": null,
            "min_height": null,
            "padding": null,
            "grid_auto_rows": null,
            "grid_gap": null,
            "max_width": null,
            "order": null,
            "_view_module_version": "1.2.0",
            "grid_template_areas": null,
            "object_position": null,
            "object_fit": null,
            "grid_auto_columns": null,
            "margin": null,
            "display": null,
            "left": null
          }
        },
        "9280989490d24974bfb25d1672992508": {
          "model_module": "@jupyter-widgets/controls",
          "model_name": "DescriptionStyleModel",
          "state": {
            "_view_name": "StyleView",
            "_model_name": "DescriptionStyleModel",
            "description_width": "",
            "_view_module": "@jupyter-widgets/base",
            "_model_module_version": "1.5.0",
            "_view_count": null,
            "_view_module_version": "1.2.0",
            "_model_module": "@jupyter-widgets/controls"
          }
        },
        "2263269276b84604b009ae8d898ff3a0": {
          "model_module": "@jupyter-widgets/base",
          "model_name": "LayoutModel",
          "state": {
            "_view_name": "LayoutView",
            "grid_template_rows": null,
            "right": null,
            "justify_content": null,
            "_view_module": "@jupyter-widgets/base",
            "overflow": null,
            "_model_module_version": "1.2.0",
            "_view_count": null,
            "flex_flow": null,
            "width": null,
            "min_width": null,
            "border": null,
            "align_items": null,
            "bottom": null,
            "_model_module": "@jupyter-widgets/base",
            "top": null,
            "grid_column": null,
            "overflow_y": null,
            "overflow_x": null,
            "grid_auto_flow": null,
            "grid_area": null,
            "grid_template_columns": null,
            "flex": null,
            "_model_name": "LayoutModel",
            "justify_items": null,
            "grid_row": null,
            "max_height": null,
            "align_content": null,
            "visibility": null,
            "align_self": null,
            "height": null,
            "min_height": null,
            "padding": null,
            "grid_auto_rows": null,
            "grid_gap": null,
            "max_width": null,
            "order": null,
            "_view_module_version": "1.2.0",
            "grid_template_areas": null,
            "object_position": null,
            "object_fit": null,
            "grid_auto_columns": null,
            "margin": null,
            "display": null,
            "left": null
          }
        },
        "5dabc88f9683430f96a6ef9129ddeeaa": {
          "model_module": "@jupyter-widgets/controls",
          "model_name": "HBoxModel",
          "state": {
            "_view_name": "HBoxView",
            "_dom_classes": [],
            "_model_name": "HBoxModel",
            "_view_module": "@jupyter-widgets/controls",
            "_model_module_version": "1.5.0",
            "_view_count": null,
            "_view_module_version": "1.5.0",
            "box_style": "",
            "layout": "IPY_MODEL_87d9f667180c419abbaece375dbe47a4",
            "_model_module": "@jupyter-widgets/controls",
            "children": [
              "IPY_MODEL_8a3d02472dbe43d29aae81a20c385fb1",
              "IPY_MODEL_9040ecc98ac94c40aeac48029359342c"
            ]
          }
        },
        "87d9f667180c419abbaece375dbe47a4": {
          "model_module": "@jupyter-widgets/base",
          "model_name": "LayoutModel",
          "state": {
            "_view_name": "LayoutView",
            "grid_template_rows": null,
            "right": null,
            "justify_content": null,
            "_view_module": "@jupyter-widgets/base",
            "overflow": null,
            "_model_module_version": "1.2.0",
            "_view_count": null,
            "flex_flow": null,
            "width": null,
            "min_width": null,
            "border": null,
            "align_items": null,
            "bottom": null,
            "_model_module": "@jupyter-widgets/base",
            "top": null,
            "grid_column": null,
            "overflow_y": null,
            "overflow_x": null,
            "grid_auto_flow": null,
            "grid_area": null,
            "grid_template_columns": null,
            "flex": null,
            "_model_name": "LayoutModel",
            "justify_items": null,
            "grid_row": null,
            "max_height": null,
            "align_content": null,
            "visibility": null,
            "align_self": null,
            "height": null,
            "min_height": null,
            "padding": null,
            "grid_auto_rows": null,
            "grid_gap": null,
            "max_width": null,
            "order": null,
            "_view_module_version": "1.2.0",
            "grid_template_areas": null,
            "object_position": null,
            "object_fit": null,
            "grid_auto_columns": null,
            "margin": null,
            "display": null,
            "left": null
          }
        },
        "8a3d02472dbe43d29aae81a20c385fb1": {
          "model_module": "@jupyter-widgets/controls",
          "model_name": "FloatProgressModel",
          "state": {
            "_view_name": "ProgressView",
            "style": "IPY_MODEL_0a742efc538b465781b7ba734112fd86",
            "_dom_classes": [],
            "description": "",
            "_model_name": "FloatProgressModel",
            "bar_style": "success",
            "max": 1,
            "_view_module": "@jupyter-widgets/controls",
            "_model_module_version": "1.5.0",
            "value": 1,
            "_view_count": null,
            "_view_module_version": "1.5.0",
            "orientation": "horizontal",
            "min": 0,
            "description_tooltip": null,
            "_model_module": "@jupyter-widgets/controls",
            "layout": "IPY_MODEL_1b364924f0ea469098cb8a39255288d1"
          }
        },
        "9040ecc98ac94c40aeac48029359342c": {
          "model_module": "@jupyter-widgets/controls",
          "model_name": "HTMLModel",
          "state": {
            "_view_name": "HTMLView",
            "style": "IPY_MODEL_ee980667499d41729b16a2b81ebe5ac6",
            "_dom_classes": [],
            "description": "",
            "_model_name": "HTMLModel",
            "placeholder": "​",
            "_view_module": "@jupyter-widgets/controls",
            "_model_module_version": "1.5.0",
            "value": " 8192/? [00:00&lt;00:00, 10948.50it/s]",
            "_view_count": null,
            "_view_module_version": "1.5.0",
            "description_tooltip": null,
            "_model_module": "@jupyter-widgets/controls",
            "layout": "IPY_MODEL_0cbd78ae3cef40c0bcd01449439c09ab"
          }
        },
        "0a742efc538b465781b7ba734112fd86": {
          "model_module": "@jupyter-widgets/controls",
          "model_name": "ProgressStyleModel",
          "state": {
            "_view_name": "StyleView",
            "_model_name": "ProgressStyleModel",
            "description_width": "initial",
            "_view_module": "@jupyter-widgets/base",
            "_model_module_version": "1.5.0",
            "_view_count": null,
            "_view_module_version": "1.2.0",
            "bar_color": null,
            "_model_module": "@jupyter-widgets/controls"
          }
        },
        "1b364924f0ea469098cb8a39255288d1": {
          "model_module": "@jupyter-widgets/base",
          "model_name": "LayoutModel",
          "state": {
            "_view_name": "LayoutView",
            "grid_template_rows": null,
            "right": null,
            "justify_content": null,
            "_view_module": "@jupyter-widgets/base",
            "overflow": null,
            "_model_module_version": "1.2.0",
            "_view_count": null,
            "flex_flow": null,
            "width": null,
            "min_width": null,
            "border": null,
            "align_items": null,
            "bottom": null,
            "_model_module": "@jupyter-widgets/base",
            "top": null,
            "grid_column": null,
            "overflow_y": null,
            "overflow_x": null,
            "grid_auto_flow": null,
            "grid_area": null,
            "grid_template_columns": null,
            "flex": null,
            "_model_name": "LayoutModel",
            "justify_items": null,
            "grid_row": null,
            "max_height": null,
            "align_content": null,
            "visibility": null,
            "align_self": null,
            "height": null,
            "min_height": null,
            "padding": null,
            "grid_auto_rows": null,
            "grid_gap": null,
            "max_width": null,
            "order": null,
            "_view_module_version": "1.2.0",
            "grid_template_areas": null,
            "object_position": null,
            "object_fit": null,
            "grid_auto_columns": null,
            "margin": null,
            "display": null,
            "left": null
          }
        },
        "ee980667499d41729b16a2b81ebe5ac6": {
          "model_module": "@jupyter-widgets/controls",
          "model_name": "DescriptionStyleModel",
          "state": {
            "_view_name": "StyleView",
            "_model_name": "DescriptionStyleModel",
            "description_width": "",
            "_view_module": "@jupyter-widgets/base",
            "_model_module_version": "1.5.0",
            "_view_count": null,
            "_view_module_version": "1.2.0",
            "_model_module": "@jupyter-widgets/controls"
          }
        },
        "0cbd78ae3cef40c0bcd01449439c09ab": {
          "model_module": "@jupyter-widgets/base",
          "model_name": "LayoutModel",
          "state": {
            "_view_name": "LayoutView",
            "grid_template_rows": null,
            "right": null,
            "justify_content": null,
            "_view_module": "@jupyter-widgets/base",
            "overflow": null,
            "_model_module_version": "1.2.0",
            "_view_count": null,
            "flex_flow": null,
            "width": null,
            "min_width": null,
            "border": null,
            "align_items": null,
            "bottom": null,
            "_model_module": "@jupyter-widgets/base",
            "top": null,
            "grid_column": null,
            "overflow_y": null,
            "overflow_x": null,
            "grid_auto_flow": null,
            "grid_area": null,
            "grid_template_columns": null,
            "flex": null,
            "_model_name": "LayoutModel",
            "justify_items": null,
            "grid_row": null,
            "max_height": null,
            "align_content": null,
            "visibility": null,
            "align_self": null,
            "height": null,
            "min_height": null,
            "padding": null,
            "grid_auto_rows": null,
            "grid_gap": null,
            "max_width": null,
            "order": null,
            "_view_module_version": "1.2.0",
            "grid_template_areas": null,
            "object_position": null,
            "object_fit": null,
            "grid_auto_columns": null,
            "margin": null,
            "display": null,
            "left": null
          }
        }
      }
    }
  },
  "cells": [
    {
      "cell_type": "markdown",
      "metadata": {
        "id": "P8tDK5A9OCM7"
      },
      "source": [
        "## Домашняя работа №1 Part1\n",
        "Вам предстоит:\n",
        "\n",
        "Написать персептрон с двумя слоями. Реализовать форвард и бэквард пропогейшен\n",
        "\n"
      ]
    },
    {
      "cell_type": "code",
      "metadata": {
        "id": "c5IbKpsMN_F1"
      },
      "source": [
        "import numpy as np\n",
        "from sklearn.metrics import classification_report\n",
        "import torch\n",
        "from torch.utils.data import DataLoader\n",
        "from torchvision.datasets import MNIST\n",
        "from torchvision import transforms\n",
        "import matplotlib.pyplot as plt\n",
        "from tqdm import tqdm\n",
        "from sklearn.metrics import accuracy_score\n",
        "import time"
      ],
      "execution_count": null,
      "outputs": []
    },
    {
      "cell_type": "markdown",
      "metadata": {
        "id": "zQRYevLNN_GA"
      },
      "source": [
        "# Датасет\n",
        "Загрузим Мнист. Почему именно он? Мы будем решать задачу бинарной классификации на паре цифр: 3 и 7. Плюсы в том, что примеров для этих чисел достаточно, чтобы обучить НС, у каждого примера не так много фичей (28Х28 - размерность картинок) и, в целом, эти классы хорошо отделяются. Я б с радостью показал вам пример с текстами, но если писать НС с нуля и пытаться обучаться на текстах, не факт, что у нас хоть что то обучится :(  \n",
        "  "
      ]
    },
    {
      "cell_type": "markdown",
      "metadata": {
        "id": "EtMN4ZlSN_GC"
      },
      "source": [
        "Торч - объект, который позволяет нормализовать картинки, можно думать о нем как о предобработке (регулярках) для текстов. В целом не стоит здесь долго думать"
      ]
    },
    {
      "cell_type": "code",
      "metadata": {
        "id": "BMugicmkN_GE"
      },
      "source": [
        "transform = transforms.Compose([\n",
        "    transforms.ToTensor(),\n",
        "    transforms.Normalize((0.1307,), (0.3081,))\n",
        "])"
      ],
      "execution_count": null,
      "outputs": []
    },
    {
      "cell_type": "markdown",
      "metadata": {
        "id": "actIVoMKN_GJ"
      },
      "source": [
        "Загружаем датасет. Возращается особенный торчовый класс, чуть ниже мы зададим его сами и научимся им полльзоваться, пока оставляем эз из.\n"
      ]
    },
    {
      "cell_type": "code",
      "metadata": {
        "id": "fQpJqIWrN_GK",
        "outputId": "a8d928a4-b7d1-47f0-b033-3473d6573896",
        "colab": {
          "base_uri": "https://localhost:8080/",
          "height": 413,
          "referenced_widgets": [
            "d150f63e8da94e9eb0a95b6ca191fb5b",
            "09418ec9b2e1409eaf8b1076c4fd9063",
            "da097454195c40109fe74c73ed0f6104",
            "3cd6377e13694087bda16227873839e8",
            "687be2ab97c945b1b68230595a8012e3",
            "2c3bb4cd1ba04305a071eeda24d1bb7b",
            "86efc460c3ed48b08941a48fb904ecd5",
            "b25f20a96356459c81e120a9210ff261",
            "7788c8cfd2f84b7d8a0891c1373e0aca",
            "2f9dc0948b784253bf65c4403a13e14a",
            "e8b10327882f47e7a5bfe5d94d551fd2",
            "7713dd8eeb1c41b69cbc6c2de61e6ec3",
            "86a76e7567ab4aaea456e01744fcd5d9",
            "a9adf7c8979a42de8e07c9ae61b01c4c",
            "f2a987594bc04e8bb333a1f9ef9a420e",
            "0f577ebc16524834b6c95df032a569a1",
            "249dd863d32d41a2b370432b200346b1",
            "9a317355259c4a168df68078aef61dac",
            "7052d323851d4b82936b44e494f45291",
            "2521b908a9c443518e15fb952ee6ea17",
            "e48587cadf2a4a7d835d08cfef8f300a",
            "0331541f206a4da78b2722a8035c293e",
            "9280989490d24974bfb25d1672992508",
            "2263269276b84604b009ae8d898ff3a0",
            "5dabc88f9683430f96a6ef9129ddeeaa",
            "87d9f667180c419abbaece375dbe47a4",
            "8a3d02472dbe43d29aae81a20c385fb1",
            "9040ecc98ac94c40aeac48029359342c",
            "0a742efc538b465781b7ba734112fd86",
            "1b364924f0ea469098cb8a39255288d1",
            "ee980667499d41729b16a2b81ebe5ac6",
            "0cbd78ae3cef40c0bcd01449439c09ab"
          ]
        }
      },
      "source": [
        "train_dataset = MNIST('.', train=True, download=True, transform=transform)\n",
        "test_dataset = MNIST('.', train=False, transform=transform)"
      ],
      "execution_count": null,
      "outputs": [
        {
          "output_type": "stream",
          "text": [
            "Downloading http://yann.lecun.com/exdb/mnist/train-images-idx3-ubyte.gz to ./MNIST/raw/train-images-idx3-ubyte.gz\n"
          ],
          "name": "stdout"
        },
        {
          "output_type": "display_data",
          "data": {
            "application/vnd.jupyter.widget-view+json": {
              "model_id": "d150f63e8da94e9eb0a95b6ca191fb5b",
              "version_minor": 0,
              "version_major": 2
            },
            "text/plain": [
              "HBox(children=(FloatProgress(value=1.0, bar_style='info', max=1.0), HTML(value='')))"
            ]
          },
          "metadata": {
            "tags": []
          }
        },
        {
          "output_type": "stream",
          "text": [
            "Extracting ./MNIST/raw/train-images-idx3-ubyte.gz to ./MNIST/raw\n",
            "Downloading http://yann.lecun.com/exdb/mnist/train-labels-idx1-ubyte.gz to ./MNIST/raw/train-labels-idx1-ubyte.gz\n"
          ],
          "name": "stdout"
        },
        {
          "output_type": "display_data",
          "data": {
            "application/vnd.jupyter.widget-view+json": {
              "model_id": "7788c8cfd2f84b7d8a0891c1373e0aca",
              "version_minor": 0,
              "version_major": 2
            },
            "text/plain": [
              "HBox(children=(FloatProgress(value=1.0, bar_style='info', max=1.0), HTML(value='')))"
            ]
          },
          "metadata": {
            "tags": []
          }
        },
        {
          "output_type": "stream",
          "text": [
            "Extracting ./MNIST/raw/train-labels-idx1-ubyte.gz to ./MNIST/raw\n",
            "Downloading http://yann.lecun.com/exdb/mnist/t10k-images-idx3-ubyte.gz to ./MNIST/raw/t10k-images-idx3-ubyte.gz\n"
          ],
          "name": "stdout"
        },
        {
          "output_type": "display_data",
          "data": {
            "application/vnd.jupyter.widget-view+json": {
              "model_id": "249dd863d32d41a2b370432b200346b1",
              "version_minor": 0,
              "version_major": 2
            },
            "text/plain": [
              "HBox(children=(FloatProgress(value=1.0, bar_style='info', max=1.0), HTML(value='')))"
            ]
          },
          "metadata": {
            "tags": []
          }
        },
        {
          "output_type": "stream",
          "text": [
            "Extracting ./MNIST/raw/t10k-images-idx3-ubyte.gz to ./MNIST/raw\n",
            "Downloading http://yann.lecun.com/exdb/mnist/t10k-labels-idx1-ubyte.gz to ./MNIST/raw/t10k-labels-idx1-ubyte.gz\n",
            "\n",
            "\n"
          ],
          "name": "stdout"
        },
        {
          "output_type": "display_data",
          "data": {
            "application/vnd.jupyter.widget-view+json": {
              "model_id": "5dabc88f9683430f96a6ef9129ddeeaa",
              "version_minor": 0,
              "version_major": 2
            },
            "text/plain": [
              "HBox(children=(FloatProgress(value=1.0, bar_style='info', max=1.0), HTML(value='')))"
            ]
          },
          "metadata": {
            "tags": []
          }
        },
        {
          "output_type": "stream",
          "text": [
            "Extracting ./MNIST/raw/t10k-labels-idx1-ubyte.gz to ./MNIST/raw\n",
            "Processing...\n",
            "Done!\n"
          ],
          "name": "stdout"
        },
        {
          "output_type": "stream",
          "text": [
            "/usr/local/lib/python3.6/dist-packages/torchvision/datasets/mnist.py:469: UserWarning: The given NumPy array is not writeable, and PyTorch does not support non-writeable tensors. This means you can write to the underlying (supposedly non-writeable) NumPy array using the tensor. You may want to copy the array to protect its data or make it writeable before converting it to a tensor. This type of warning will be suppressed for the rest of this program. (Triggered internally at  /pytorch/torch/csrc/utils/tensor_numpy.cpp:141.)\n",
            "  return torch.from_numpy(parsed.astype(m[2], copy=False)).view(*s)\n"
          ],
          "name": "stderr"
        }
      ]
    },
    {
      "cell_type": "markdown",
      "metadata": {
        "id": "aUSUIJbUN_GQ"
      },
      "source": [
        "Выбираем два класса. Если вы достаточно хорошо знакомы с пандас, то можно понять, что никакой магии здесь нет."
      ]
    },
    {
      "cell_type": "code",
      "metadata": {
        "id": "vx73oHg9N_GS"
      },
      "source": [
        "#фильтруем фичи (дата) по значению классификационных лэйблов (таргет), берем или цифру 3 или цифру 7\n",
        "train_dataset.data = train_dataset.data[(train_dataset.targets == 3) | (train_dataset.targets == 7)]\n",
        "train_dataset.targets = train_dataset.targets[(train_dataset.targets == 3) | (train_dataset.targets == 7)]\n",
        "#тоже самое для тестового набора\n",
        "test_dataset.data = test_dataset.data[(test_dataset.targets == 3) | (test_dataset.targets == 7)]\n",
        "test_dataset.targets = test_dataset.targets[(test_dataset.targets == 3) | (test_dataset.targets == 7)]\n",
        "#необходимы препроцессинг лейблов, видимо не все значения имею тип integer, а нам нужен именно этот тип функция лонг позволяет нам \n",
        "#        это сделать (self.long() is equivalent to self.to(torch.int64). See to())\n",
        "train_dataset.targets = (train_dataset.targets == 7).long()\n",
        "test_dataset.targets = (test_dataset.targets == 7).long()"
      ],
      "execution_count": null,
      "outputs": []
    },
    {
      "cell_type": "markdown",
      "metadata": {
        "id": "RHelnPG0N_GX"
      },
      "source": [
        "Мы неоднократно говорили, что НС обычно тренируются бачами, в торче есть удобный класс, который позволяет обернуть наши датасеты в итерируемый объект. Если не знаете что такое итерируемый объект, погуглите :) можно думать об этом как о списке с составными элементами (элемент - батч - набор примеров) "
      ]
    },
    {
      "cell_type": "code",
      "metadata": {
        "id": "ENLomAueN_GZ"
      },
      "source": [
        "train_loader = DataLoader(train_dataset, batch_size=128, shuffle=True)\n",
        "test_loader = DataLoader(test_dataset, batch_size=128, shuffle=False)"
      ],
      "execution_count": null,
      "outputs": []
    },
    {
      "cell_type": "code",
      "metadata": {
        "id": "rdvq5scBXtWY",
        "outputId": "e00a7507-d892-4ee2-b1df-d1a6d64e9565",
        "colab": {
          "base_uri": "https://localhost:8080/",
          "height": 994
        }
      },
      "source": [
        "X, y = next(iter(train_loader)) #next(iter(x) - Возвращает следующий элемент итератора.\n",
        "X"
      ],
      "execution_count": null,
      "outputs": [
        {
          "output_type": "execute_result",
          "data": {
            "text/plain": [
              "tensor([[[[-0.4242, -0.4242, -0.4242,  ..., -0.4242, -0.4242, -0.4242],\n",
              "          [-0.4242, -0.4242, -0.4242,  ..., -0.4242, -0.4242, -0.4242],\n",
              "          [-0.4242, -0.4242, -0.4242,  ..., -0.4242, -0.4242, -0.4242],\n",
              "          ...,\n",
              "          [-0.4242, -0.4242, -0.4242,  ..., -0.4242, -0.4242, -0.4242],\n",
              "          [-0.4242, -0.4242, -0.4242,  ..., -0.4242, -0.4242, -0.4242],\n",
              "          [-0.4242, -0.4242, -0.4242,  ..., -0.4242, -0.4242, -0.4242]]],\n",
              "\n",
              "\n",
              "        [[[-0.4242, -0.4242, -0.4242,  ..., -0.4242, -0.4242, -0.4242],\n",
              "          [-0.4242, -0.4242, -0.4242,  ..., -0.4242, -0.4242, -0.4242],\n",
              "          [-0.4242, -0.4242, -0.4242,  ..., -0.4242, -0.4242, -0.4242],\n",
              "          ...,\n",
              "          [-0.4242, -0.4242, -0.4242,  ..., -0.4242, -0.4242, -0.4242],\n",
              "          [-0.4242, -0.4242, -0.4242,  ..., -0.4242, -0.4242, -0.4242],\n",
              "          [-0.4242, -0.4242, -0.4242,  ..., -0.4242, -0.4242, -0.4242]]],\n",
              "\n",
              "\n",
              "        [[[-0.4242, -0.4242, -0.4242,  ..., -0.4242, -0.4242, -0.4242],\n",
              "          [-0.4242, -0.4242, -0.4242,  ..., -0.4242, -0.4242, -0.4242],\n",
              "          [-0.4242, -0.4242, -0.4242,  ..., -0.4242, -0.4242, -0.4242],\n",
              "          ...,\n",
              "          [-0.4242, -0.4242, -0.4242,  ..., -0.4242, -0.4242, -0.4242],\n",
              "          [-0.4242, -0.4242, -0.4242,  ..., -0.4242, -0.4242, -0.4242],\n",
              "          [-0.4242, -0.4242, -0.4242,  ..., -0.4242, -0.4242, -0.4242]]],\n",
              "\n",
              "\n",
              "        ...,\n",
              "\n",
              "\n",
              "        [[[-0.4242, -0.4242, -0.4242,  ..., -0.4242, -0.4242, -0.4242],\n",
              "          [-0.4242, -0.4242, -0.4242,  ..., -0.4242, -0.4242, -0.4242],\n",
              "          [-0.4242, -0.4242, -0.4242,  ..., -0.4242, -0.4242, -0.4242],\n",
              "          ...,\n",
              "          [-0.4242, -0.4242, -0.4242,  ..., -0.4242, -0.4242, -0.4242],\n",
              "          [-0.4242, -0.4242, -0.4242,  ..., -0.4242, -0.4242, -0.4242],\n",
              "          [-0.4242, -0.4242, -0.4242,  ..., -0.4242, -0.4242, -0.4242]]],\n",
              "\n",
              "\n",
              "        [[[-0.4242, -0.4242, -0.4242,  ..., -0.4242, -0.4242, -0.4242],\n",
              "          [-0.4242, -0.4242, -0.4242,  ..., -0.4242, -0.4242, -0.4242],\n",
              "          [-0.4242, -0.4242, -0.4242,  ..., -0.4242, -0.4242, -0.4242],\n",
              "          ...,\n",
              "          [-0.4242, -0.4242, -0.4242,  ..., -0.4242, -0.4242, -0.4242],\n",
              "          [-0.4242, -0.4242, -0.4242,  ..., -0.4242, -0.4242, -0.4242],\n",
              "          [-0.4242, -0.4242, -0.4242,  ..., -0.4242, -0.4242, -0.4242]]],\n",
              "\n",
              "\n",
              "        [[[-0.4242, -0.4242, -0.4242,  ..., -0.4242, -0.4242, -0.4242],\n",
              "          [-0.4242, -0.4242, -0.4242,  ..., -0.4242, -0.4242, -0.4242],\n",
              "          [-0.4242, -0.4242, -0.4242,  ..., -0.4242, -0.4242, -0.4242],\n",
              "          ...,\n",
              "          [-0.4242, -0.4242, -0.4242,  ..., -0.4242, -0.4242, -0.4242],\n",
              "          [-0.4242, -0.4242, -0.4242,  ..., -0.4242, -0.4242, -0.4242],\n",
              "          [-0.4242, -0.4242, -0.4242,  ..., -0.4242, -0.4242, -0.4242]]]])"
            ]
          },
          "metadata": {
            "tags": []
          },
          "execution_count": 6
        }
      ]
    },
    {
      "cell_type": "code",
      "metadata": {
        "id": "SAaI0uHWYUrb",
        "outputId": "45fa4dac-fd6d-416b-e397-bd7c9ee0a053",
        "colab": {
          "base_uri": "https://localhost:8080/",
          "height": 123
        }
      },
      "source": [
        "y"
      ],
      "execution_count": null,
      "outputs": [
        {
          "output_type": "execute_result",
          "data": {
            "text/plain": [
              "tensor([1, 0, 0, 1, 1, 0, 0, 1, 0, 1, 0, 0, 1, 0, 0, 0, 1, 1, 1, 0, 0, 1, 1, 0,\n",
              "        1, 0, 1, 0, 0, 0, 0, 0, 0, 0, 0, 0, 0, 1, 0, 0, 0, 1, 1, 1, 0, 0, 0, 1,\n",
              "        0, 1, 1, 1, 1, 0, 0, 0, 0, 0, 0, 1, 0, 1, 0, 0, 1, 1, 1, 1, 0, 1, 0, 0,\n",
              "        1, 1, 1, 0, 1, 0, 1, 1, 1, 0, 0, 1, 1, 1, 0, 1, 1, 0, 0, 0, 1, 1, 0, 1,\n",
              "        1, 0, 0, 0, 1, 0, 1, 1, 1, 1, 1, 1, 0, 1, 0, 1, 0, 1, 1, 0, 1, 0, 0, 0,\n",
              "        0, 0, 1, 1, 1, 0, 1, 1])"
            ]
          },
          "metadata": {
            "tags": []
          },
          "execution_count": 7
        }
      ]
    },
    {
      "cell_type": "markdown",
      "metadata": {
        "id": "KPw6jv5hYXhV"
      },
      "source": [
        "Никакой магии, просто многомерные матрицы. Можно даже проверить, что то, что мы получили, то есть первый батч имееет правильную размерность.В y - 1 это класс цифры \"7\", 0 - \"3\""
      ]
    },
    {
      "cell_type": "code",
      "metadata": {
        "id": "mQH1_6dSYlnW",
        "outputId": "478e4c07-4a0a-4f20-b676-480581ac9526",
        "colab": {
          "base_uri": "https://localhost:8080/",
          "height": 34
        }
      },
      "source": [
        "X.shape #128 - примеров, [1, 28, 28] - размерность картинки, 1 - значит что из трех каналов (Р, Г, Б) у нас всего один, а сама картинка 28 на 28"
      ],
      "execution_count": null,
      "outputs": [
        {
          "output_type": "execute_result",
          "data": {
            "text/plain": [
              "torch.Size([128, 1, 28, 28])"
            ]
          },
          "metadata": {
            "tags": []
          },
          "execution_count": 8
        }
      ]
    },
    {
      "cell_type": "code",
      "metadata": {
        "id": "yGAYt4oqYpW5",
        "outputId": "b15c5c6c-1f4d-4a7f-fab5-d1296d0777ad",
        "colab": {
          "base_uri": "https://localhost:8080/",
          "height": 34
        }
      },
      "source": [
        "y.shape"
      ],
      "execution_count": null,
      "outputs": [
        {
          "output_type": "execute_result",
          "data": {
            "text/plain": [
              "torch.Size([128])"
            ]
          },
          "metadata": {
            "tags": []
          },
          "execution_count": 9
        }
      ]
    },
    {
      "cell_type": "markdown",
      "metadata": {
        "id": "CNVEJYNXN_Gd"
      },
      "source": [
        "Проверим, правда ли это картинки"
      ]
    },
    {
      "cell_type": "code",
      "metadata": {
        "id": "-Kkv2jAKN_Ge",
        "outputId": "2369a6f3-a843-4d57-a471-b4aad7d01b83",
        "colab": {
          "base_uri": "https://localhost:8080/",
          "height": 455
        }
      },
      "source": [
        "X, y = next(iter(train_loader))\n",
        "X = X.numpy() # перевод тензора в массив нумпай, просто изменение типа данных \n",
        "y = y.numpy()\n",
        "\n",
        "plt.figure(figsize=(6, 7))\n",
        "for i in range(25):\n",
        "    plt.subplot(5, 5, i+1)\n",
        "    plt.imshow(X[i].reshape(28, 28), cmap=plt.cm.Greys_r)\n",
        "    plt.title(y[i])\n",
        "    plt.axis('off')"
      ],
      "execution_count": null,
      "outputs": [
        {
          "output_type": "stream",
          "text": [
            "\n",
            "\n"
          ],
          "name": "stdout"
        },
        {
          "output_type": "display_data",
          "data": {
            "image/png": "[encoded data removed]",
            "text/plain": [
              "<Figure size 432x504 with 25 Axes>"
            ]
          },
          "metadata": {
            "tags": [],
            "needs_background": "light"
          }
        }
      ]
    },
    {
      "cell_type": "markdown",
      "metadata": {
        "id": "jL6Cd-7tb29_"
      },
      "source": [
        "Нам столько размерностей не нужно, поэтому давайте выпрямим матрицу, тем боле мы знаем что значение каждого пикселя независимо друг друга."
      ]
    },
    {
      "cell_type": "code",
      "metadata": {
        "id": "tDiEEUYJN_G6",
        "outputId": "f9e9d4f2-ec7c-4b7a-ee69-f1be657a7b64",
        "colab": {
          "base_uri": "https://localhost:8080/",
          "height": 34
        }
      },
      "source": [
        "X, y = next(iter(train_loader))\n",
        "X = X.view(X.shape[0], -1)\n",
        "X.shape"
      ],
      "execution_count": null,
      "outputs": [
        {
          "output_type": "execute_result",
          "data": {
            "text/plain": [
              "torch.Size([128, 784])"
            ]
          },
          "metadata": {
            "tags": []
          },
          "execution_count": 11
        }
      ]
    },
    {
      "cell_type": "markdown",
      "metadata": {
        "id": "6_m0y3z9N_HN"
      },
      "source": [
        " Размерность\n",
        "- количество примеров в батче\n",
        "- количество фичей"
      ]
    },
    {
      "cell_type": "code",
      "metadata": {
        "id": "0rRs_fibN_HX",
        "outputId": "242eeafc-1515-4d45-a493-ed5613e0a92b",
        "colab": {
          "base_uri": "https://localhost:8080/",
          "height": 123
        }
      },
      "source": [
        "y"
      ],
      "execution_count": null,
      "outputs": [
        {
          "output_type": "execute_result",
          "data": {
            "text/plain": [
              "tensor([0, 1, 1, 0, 0, 1, 0, 1, 0, 1, 1, 1, 1, 1, 1, 0, 1, 1, 1, 1, 0, 1, 0, 1,\n",
              "        0, 1, 1, 1, 1, 1, 0, 1, 0, 1, 1, 0, 0, 0, 1, 1, 0, 1, 0, 0, 0, 0, 1, 0,\n",
              "        1, 0, 1, 1, 1, 1, 0, 0, 1, 0, 1, 1, 1, 0, 1, 1, 1, 0, 0, 0, 1, 1, 1, 1,\n",
              "        1, 0, 1, 1, 1, 0, 1, 1, 0, 1, 0, 0, 1, 1, 1, 0, 1, 1, 0, 1, 0, 0, 1, 0,\n",
              "        0, 1, 0, 0, 0, 0, 0, 0, 1, 1, 1, 1, 1, 0, 1, 1, 0, 1, 0, 0, 1, 0, 1, 1,\n",
              "        0, 0, 0, 0, 1, 1, 0, 1])"
            ]
          },
          "metadata": {
            "tags": []
          },
          "execution_count": 12
        }
      ]
    },
    {
      "cell_type": "markdown",
      "metadata": {
        "id": "Z4vTsvPZdPQg"
      },
      "source": [
        "Такой У нам не совсем подходит. Сейчас объясню почему. Размерность Х (128,784) матрично перемножим на скрытый слой (784,1) и получится (128,1). Нужно понимать, что размерность (128,) и (128,1) это немного разные вещи  "
      ]
    },
    {
      "cell_type": "code",
      "metadata": {
        "id": "98g7689ON_Hc",
        "outputId": "b7fed33d-8b82-481b-a9c7-0155ae0fa008",
        "colab": {
          "base_uri": "https://localhost:8080/",
          "height": 34
        }
      },
      "source": [
        "w = torch.rand(784, 1) #Рандомные необученые веса\n",
        "pred = X.matmul(w)\n",
        "pred.shape"
      ],
      "execution_count": null,
      "outputs": [
        {
          "output_type": "execute_result",
          "data": {
            "text/plain": [
              "torch.Size([128, 1])"
            ]
          },
          "metadata": {
            "tags": []
          },
          "execution_count": 13
        }
      ]
    },
    {
      "cell_type": "code",
      "metadata": {
        "id": "KG9L5xtJd9TQ",
        "outputId": "6c1d788a-0bf4-426a-d12b-59f1937eb25b",
        "colab": {
          "base_uri": "https://localhost:8080/",
          "height": 1000
        }
      },
      "source": [
        "pred"
      ],
      "execution_count": null,
      "outputs": [
        {
          "output_type": "execute_result",
          "data": {
            "text/plain": [
              "tensor([[  8.4473],\n",
              "        [-21.9999],\n",
              "        [-36.0261],\n",
              "        [ 16.3552],\n",
              "        [ -3.9500],\n",
              "        [ 37.2030],\n",
              "        [-57.1363],\n",
              "        [-52.5121],\n",
              "        [ 29.0091],\n",
              "        [-40.5218],\n",
              "        [-66.6988],\n",
              "        [-54.6995],\n",
              "        [-82.0200],\n",
              "        [-11.2734],\n",
              "        [-75.4316],\n",
              "        [ -1.9034],\n",
              "        [  6.7980],\n",
              "        [-59.3783],\n",
              "        [-80.3480],\n",
              "        [-53.7058],\n",
              "        [ 59.2185],\n",
              "        [-21.1896],\n",
              "        [ 20.4975],\n",
              "        [ -8.4715],\n",
              "        [ 53.5314],\n",
              "        [-79.8104],\n",
              "        [-65.0931],\n",
              "        [-14.3124],\n",
              "        [-25.6605],\n",
              "        [-30.8198],\n",
              "        [-24.5721],\n",
              "        [-66.3942],\n",
              "        [ 62.5788],\n",
              "        [-14.2195],\n",
              "        [-34.9321],\n",
              "        [ 58.3159],\n",
              "        [ 85.1871],\n",
              "        [-38.6622],\n",
              "        [  8.5872],\n",
              "        [-21.4920],\n",
              "        [ -3.5944],\n",
              "        [ 15.5293],\n",
              "        [ 75.1151],\n",
              "        [ 53.0130],\n",
              "        [ -4.2584],\n",
              "        [-42.5062],\n",
              "        [-51.5895],\n",
              "        [-76.9410],\n",
              "        [ 67.4043],\n",
              "        [  8.5437],\n",
              "        [-38.9841],\n",
              "        [-27.8918],\n",
              "        [-70.9477],\n",
              "        [-55.9234],\n",
              "        [-15.4719],\n",
              "        [ 57.0920],\n",
              "        [-39.6589],\n",
              "        [-19.6313],\n",
              "        [  8.6845],\n",
              "        [-37.2762],\n",
              "        [-23.0246],\n",
              "        [ 52.0681],\n",
              "        [ -8.1374],\n",
              "        [-22.5834],\n",
              "        [ -2.7423],\n",
              "        [-20.0326],\n",
              "        [ 39.2201],\n",
              "        [ 41.8626],\n",
              "        [-53.9218],\n",
              "        [-77.9553],\n",
              "        [-60.0916],\n",
              "        [-18.5819],\n",
              "        [-32.5961],\n",
              "        [-43.6489],\n",
              "        [ 54.1239],\n",
              "        [-70.5947],\n",
              "        [ 79.8363],\n",
              "        [-73.3635],\n",
              "        [-22.8212],\n",
              "        [-24.1400],\n",
              "        [ 66.4509],\n",
              "        [-62.7629],\n",
              "        [123.4212],\n",
              "        [ -3.3934],\n",
              "        [-48.3077],\n",
              "        [-47.9819],\n",
              "        [-51.0959],\n",
              "        [ 30.2864],\n",
              "        [-65.7393],\n",
              "        [ 53.1091],\n",
              "        [  0.8225],\n",
              "        [ 70.2641],\n",
              "        [-97.4207],\n",
              "        [-62.9273],\n",
              "        [-35.7644],\n",
              "        [  0.8654],\n",
              "        [  2.5650],\n",
              "        [-50.7964],\n",
              "        [-21.2469],\n",
              "        [-28.0412],\n",
              "        [-50.6160],\n",
              "        [-15.7384],\n",
              "        [ 54.2322],\n",
              "        [ -7.9643],\n",
              "        [-17.2639],\n",
              "        [-79.3668],\n",
              "        [ 11.0754],\n",
              "        [ 32.9579],\n",
              "        [-29.3625],\n",
              "        [-58.8189],\n",
              "        [-32.8709],\n",
              "        [-70.5205],\n",
              "        [ 28.9143],\n",
              "        [ -7.6273],\n",
              "        [-26.9638],\n",
              "        [ 30.6729],\n",
              "        [ 10.6355],\n",
              "        [ -4.3563],\n",
              "        [ -8.0310],\n",
              "        [-34.0026],\n",
              "        [ 53.4500],\n",
              "        [ 32.5748],\n",
              "        [ 21.1569],\n",
              "        [-35.2547],\n",
              "        [-89.9862],\n",
              "        [ 45.8659],\n",
              "        [-49.0779],\n",
              "        [  5.8655]])"
            ]
          },
          "metadata": {
            "tags": []
          },
          "execution_count": 14
        }
      ]
    },
    {
      "cell_type": "markdown",
      "metadata": {
        "id": "Rb1hswcGeEpc"
      },
      "source": [
        "Теперь у нас есть предсказания и их размерность (128,1). Нужно будет счтить лосс с у, поэтому приведем его к такой же размерности с expand_dims - это функция есть в нумпае, также есть и в торче"
      ]
    },
    {
      "cell_type": "code",
      "metadata": {
        "id": "wAIFQMfwN_Hl"
      },
      "source": [
        "y = np.expand_dims(y, 1)"
      ],
      "execution_count": null,
      "outputs": []
    },
    {
      "cell_type": "code",
      "metadata": {
        "id": "SrlrvUq7N_Hw",
        "outputId": "cc473766-35a0-4b64-8f0c-d068cbc3869c",
        "colab": {
          "base_uri": "https://localhost:8080/",
          "height": 1000
        }
      },
      "source": [
        "y"
      ],
      "execution_count": null,
      "outputs": [
        {
          "output_type": "execute_result",
          "data": {
            "text/plain": [
              "array([[0],\n",
              "       [1],\n",
              "       [1],\n",
              "       [0],\n",
              "       [0],\n",
              "       [1],\n",
              "       [0],\n",
              "       [1],\n",
              "       [0],\n",
              "       [1],\n",
              "       [1],\n",
              "       [1],\n",
              "       [1],\n",
              "       [1],\n",
              "       [1],\n",
              "       [0],\n",
              "       [1],\n",
              "       [1],\n",
              "       [1],\n",
              "       [1],\n",
              "       [0],\n",
              "       [1],\n",
              "       [0],\n",
              "       [1],\n",
              "       [0],\n",
              "       [1],\n",
              "       [1],\n",
              "       [1],\n",
              "       [1],\n",
              "       [1],\n",
              "       [0],\n",
              "       [1],\n",
              "       [0],\n",
              "       [1],\n",
              "       [1],\n",
              "       [0],\n",
              "       [0],\n",
              "       [0],\n",
              "       [1],\n",
              "       [1],\n",
              "       [0],\n",
              "       [1],\n",
              "       [0],\n",
              "       [0],\n",
              "       [0],\n",
              "       [0],\n",
              "       [1],\n",
              "       [0],\n",
              "       [1],\n",
              "       [0],\n",
              "       [1],\n",
              "       [1],\n",
              "       [1],\n",
              "       [1],\n",
              "       [0],\n",
              "       [0],\n",
              "       [1],\n",
              "       [0],\n",
              "       [1],\n",
              "       [1],\n",
              "       [1],\n",
              "       [0],\n",
              "       [1],\n",
              "       [1],\n",
              "       [1],\n",
              "       [0],\n",
              "       [0],\n",
              "       [0],\n",
              "       [1],\n",
              "       [1],\n",
              "       [1],\n",
              "       [1],\n",
              "       [1],\n",
              "       [0],\n",
              "       [1],\n",
              "       [1],\n",
              "       [1],\n",
              "       [0],\n",
              "       [1],\n",
              "       [1],\n",
              "       [0],\n",
              "       [1],\n",
              "       [0],\n",
              "       [0],\n",
              "       [1],\n",
              "       [1],\n",
              "       [1],\n",
              "       [0],\n",
              "       [1],\n",
              "       [1],\n",
              "       [0],\n",
              "       [1],\n",
              "       [0],\n",
              "       [0],\n",
              "       [1],\n",
              "       [0],\n",
              "       [0],\n",
              "       [1],\n",
              "       [0],\n",
              "       [0],\n",
              "       [0],\n",
              "       [0],\n",
              "       [0],\n",
              "       [0],\n",
              "       [1],\n",
              "       [1],\n",
              "       [1],\n",
              "       [1],\n",
              "       [1],\n",
              "       [0],\n",
              "       [1],\n",
              "       [1],\n",
              "       [0],\n",
              "       [1],\n",
              "       [0],\n",
              "       [0],\n",
              "       [1],\n",
              "       [0],\n",
              "       [1],\n",
              "       [1],\n",
              "       [0],\n",
              "       [0],\n",
              "       [0],\n",
              "       [0],\n",
              "       [1],\n",
              "       [1],\n",
              "       [0],\n",
              "       [1]])"
            ]
          },
          "metadata": {
            "tags": []
          },
          "execution_count": 16
        }
      ]
    },
    {
      "cell_type": "markdown",
      "metadata": {
        "id": "TFAKpwY_N_H_"
      },
      "source": [
        "Итерация по эпохам"
      ]
    },
    {
      "cell_type": "code",
      "metadata": {
        "id": "DWmQFlyWN_IB",
        "outputId": "43ca1a0b-38c7-4497-ad18-15591319b91e",
        "colab": {
          "base_uri": "https://localhost:8080/",
          "height": 69
        }
      },
      "source": [
        "epochs = 3\n",
        "\n",
        "for n_epoch in range(epochs):\n",
        "    \n",
        "    dataset_passed_samples = 0\n",
        "    \n",
        "    for x, y in train_loader:\n",
        "        \n",
        "        # вот здесь мы могли бы как-то манипулировать с данными, например, учить, но пока этого делать не будет\n",
        "        \n",
        "        time.sleep(0.05)\n",
        "        \n",
        "        dataset_passed_samples += x.shape[0]\n",
        "        \n",
        "        dataset_passed_percent = dataset_passed_samples * 100 / train_loader.dataset.data.shape[0]\n",
        "        \n",
        "        print(f'Эпоха - {n_epoch + 1}, прошли - {dataset_passed_percent:.2f} % датасета', end='\\r')\n",
        "        \n",
        "    print('\\r')"
      ],
      "execution_count": null,
      "outputs": [
        {
          "output_type": "stream",
          "text": [
            "Эпоха - 1, прошли - 100.00 % датасета\n",
            "Эпоха - 2, прошли - 100.00 % датасета\n",
            "Эпоха - 3, прошли - 100.00 % датасета\n"
          ],
          "name": "stdout"
        }
      ]
    },
    {
      "cell_type": "markdown",
      "metadata": {
        "id": "8iBd9MS_f7Eg"
      },
      "source": [
        "# Однослойный персептрон"
      ]
    },
    {
      "cell_type": "code",
      "metadata": {
        "id": "x9wKt3z1gIo7",
        "outputId": "078ace6e-0f84-4935-95a8-9646d52b721e",
        "colab": {
          "base_uri": "https://localhost:8080/",
          "height": 104
        }
      },
      "source": [
        "learning_rate = 0.01 # тот самый лернинг рейт, который определяет какую часть от градиента мы будем брать\n",
        "epochs = 5  #сколько раз мы пройдем по всему тренировачному набору наших данных\n",
        "\n",
        "batch_size = 128  #это число примеров в баче понадобится нам при обучении чтобы усреднять лосс (ошибку обучения)\n",
        "n_feat = 784\n",
        "\n",
        "w1 = np.random.rand(n_feat,1)*0.01 #0.01 - нормируем таким образом наши веса, чтобы избежать деления на ноль при бэкпропе, \n",
        "                                    #эмпирически выбрано, так как сами фичи у нас имеют значения близкие к 0\n",
        "b1 = np.zeros(1) #размерность должна совпадать с количеством параметров, которые у нас останутся после матричного перемножения\n",
        "\n",
        "losses = [] #на каждой итерации (и для всех эпох) будем сохранять сюда наш Лосс, чтобы видеть обучается ли НС\n",
        "\n",
        "for n_epoch in range(epochs):\n",
        "    \n",
        "    print(f'Epoch: {n_epoch + 1}')\n",
        "    \n",
        "    for x, y in train_loader:\n",
        "\n",
        "        x = x.view(x.shape[0], -1).numpy() #приводим к размерности (128,784)\n",
        "        y = np.expand_dims(y.numpy(), 1) #приводим к размерности (128,1)\n",
        "\n",
        "        h1 = x.dot(w1) + b1 #переход в одномерное пространство\n",
        "        p = 1/(1+np.exp(-h1)) #преобразование в \"вероятности\"\n",
        "        \n",
        "        bce = (-np.sum(np.multiply(np.log(p), y) + np.multiply((1 - y), np.log(1 - p)))) / batch_size \n",
        "        #расчет энтропии с усреднением по размеру бача\n",
        "          \n",
        "        losses.append(bce) \n",
        "        #ниже производная bce и sigmoid, если вы распишите две этих производные, перемножите и сократите, то полчится следующая строчка\n",
        "        dp = (p - y) / batch_size \n",
        "        dw1 = np.dot(x.T, dp) # производная по линейному преобразванию, относительно W - весов \n",
        "        db1 = np.sum(dp) # производная по лин преобразованиюб относительно В - баяса, \n",
        "        #здесь по идее должно быть перемножение на единичный вектор (128,1), но это тоже самое что и сумма значениеб типа лайф хак\n",
        "        \n",
        "        w1 -= learning_rate * dw1 # Обновим веса и баясы \n",
        "        b1 -= learning_rate * db1"
      ],
      "execution_count": 138,
      "outputs": [
        {
          "output_type": "stream",
          "text": [
            "Epoch: 1\n",
            "Epoch: 2\n",
            "Epoch: 3\n",
            "Epoch: 4\n",
            "Epoch: 5\n"
          ],
          "name": "stdout"
        }
      ]
    },
    {
      "cell_type": "markdown",
      "metadata": {
        "id": "Lc3-pw-4wMum"
      },
      "source": [
        "А теперь построим график функции потерь"
      ]
    },
    {
      "cell_type": "code",
      "metadata": {
        "id": "NvB4U5OXhE3t",
        "outputId": "fe51dacc-9df0-4e9d-9ca6-f2c9b8d3ba6a",
        "colab": {
          "base_uri": "https://localhost:8080/",
          "height": 708
        }
      },
      "source": [
        "plt.figure(figsize=(14, 12))\n",
        "plt.plot(losses)\n",
        "plt.grid()\n",
        "plt.title('Training process')\n",
        "plt.xlabel('Iterations')\n",
        "plt.ylabel('Loss function')"
      ],
      "execution_count": null,
      "outputs": [
        {
          "output_type": "execute_result",
          "data": {
            "text/plain": [
              "Text(0, 0.5, 'Loss function')"
            ]
          },
          "metadata": {
            "tags": []
          },
          "execution_count": 19
        },
        {
          "output_type": "display_data",
          "data": {
            "image/png": "[encoded data removed]",
            "text/plain": [
              "<Figure size 1008x864 with 1 Axes>"
            ]
          },
          "metadata": {
            "tags": [],
            "needs_background": "light"
          }
        }
      ]
    },
    {
      "cell_type": "markdown",
      "metadata": {
        "id": "IfpCVrN2tO5S"
      },
      "source": [
        "## Математика \n",
        "\n",
        "\n",
        "![alt text](https://sun9-39.userapi.com/c850608/v850608777/47a4/fgZlI898IUU.jpg)\n",
        "![alt text](https://sun9-41.userapi.com/c858216/v858216777/cc4f5/v3CPa-tnm80.jpg)\n",
        "![alt text](https://sun9-67.userapi.com/c857632/v857632471/f6e95/H0dsmWsUInc.jpg)\n",
        "![alt text](https://sun9-71.userapi.com/c858120/v858120274/10d0ef/hdKO-3Syk3g.jpg)\n",
        "\n"
      ]
    },
    {
      "cell_type": "markdown",
      "metadata": {
        "id": "ToNAC3-bN_IN"
      },
      "source": [
        "А теперь ваша очередь, нужно написать двуслоный персептрон, согласно коду и выкладкам выше"
      ]
    },
    {
      "cell_type": "code",
      "metadata": {
        "id": "yJSR8hdTN_IO",
        "outputId": "f3f7dbfe-472e-4462-f104-7c4a3c0d086d",
        "colab": {
          "base_uri": "https://localhost:8080/",
          "height": 104
        }
      },
      "source": [
        "### КОД СЮДА ###\n",
        "\n",
        "learning_rate = 0.07\n",
        "epochs = 5\n",
        "\n",
        "w1 = np.random.rand(n_feat,50)*0.01\n",
        "b1 = np.zeros(50)\n",
        "w2 = np.random.rand(50,1)*0.01\n",
        "b2 = np.zeros(1)\n",
        "\n",
        "losses = []\n",
        "\n",
        "for n_epoch in range(epochs):\n",
        "    \n",
        "    print(f'Epoch: {n_epoch + 1}')\n",
        "    \n",
        "    for x, y in train_loader:\n",
        "\n",
        "        x = x.view(x.shape[0], -1).numpy()\n",
        "        y = np.expand_dims(y.numpy(), 1)\n",
        "\n",
        "        h1 = x.dot(w1) + b1\n",
        "        h1 = 1/(1+np.exp(-h1))\n",
        "\n",
        "        h2 = h1.dot(w2) + b2\n",
        "        h2 = 1/(1+np.exp(-h2))\n",
        "\n",
        "        bce = (-np.sum(np.multiply(np.log(h2), y) + np.multiply((1 - y), np.log(1 - h2)))) / batch_size \n",
        "          \n",
        "        losses.append(bce) \n",
        "        dh2 = (h2 - y) / batch_size\n",
        "        dw2 = np.dot(h1.T, dh2) \n",
        "        db2 = np.sum(dh2) \n",
        "        \n",
        "\n",
        "        dh = dh2.dot(w2.T)\n",
        "        dw1 = np.dot(x.T, dh*h1*(1-h1)) \n",
        "        db1 = np.sum(dh)\n",
        "\n",
        "        \n",
        "        w2 -= learning_rate * dw2 \n",
        "        b2 -= learning_rate * db2\n",
        "\n",
        "        w1 -= learning_rate * dw1 \n",
        "        b1 -= learning_rate * db1\n"
      ],
      "execution_count": null,
      "outputs": [
        {
          "output_type": "stream",
          "text": [
            "Epoch: 1\n",
            "Epoch: 2\n",
            "Epoch: 3\n",
            "Epoch: 4\n",
            "Epoch: 5\n"
          ],
          "name": "stdout"
        }
      ]
    },
    {
      "cell_type": "markdown",
      "metadata": {
        "id": "ur7SqyVGN_IY"
      },
      "source": [
        "## Подсказки по размерностям\n",
        "\n",
        "### Forward\n",
        "\n",
        "- z1 - первое линейное преобразование - (BATCH_SIZE, INNER_FEATURES)\n",
        "- a1 - Применение нелинейности - (BATCH_SIZE, INNER_FEATURES)\n",
        "- z2 - второе нелинейное преобразование - (BATCH_SIZE, 1)\n",
        "- pred or A2- сигмоида - (BATCH_SIZE, 1)\n",
        "- loss - функция потерь - скаляр\n",
        "\n",
        "### Backward\n",
        "\n",
        "- d_BCE/d_pred - градиент функции потерь по pred - (BATCH_SIZE, 1)\n",
        "- d_pred/dz2 - градиент сигмоиды по z2 - (BATCH_SIZE, 1)\n",
        "- dz2/da1 - градиент линейного преобразования по a1 - (BATCH_SIZE, INNER_FEATURES)\n",
        "- dz2/dw2 - градиент линейного преобразования по w2 - (INNER_FEATURES, 1)\n",
        "- dz2/db2 - градиент линейного преобразования по b2 - (1,)\n",
        "- da1/dz1 - градиент нелинейной функции по z1 - (BATCH_SIZE, INNER_FEATURES)\n",
        "- dz1/dw1 - градиент линейного преобразования по w1 - (IN_FEATURES, INNER_FEATURES)\n",
        "- dz1/db1 - градиент линейного преобразования по b1 - (INNER_FEATURES,)"
      ]
    },
    {
      "cell_type": "markdown",
      "metadata": {
        "id": "ihOoASMAN_Ia"
      },
      "source": [
        "и график нарисуйте"
      ]
    },
    {
      "cell_type": "code",
      "metadata": {
        "id": "CwRzXKRNN_Ic",
        "outputId": "424e888a-9a6e-494d-c1d5-bd4d8a1e98eb",
        "colab": {
          "base_uri": "https://localhost:8080/",
          "height": 690
        }
      },
      "source": [
        "plt.figure(figsize=(14, 12))\n",
        "plt.plot(losses)\n",
        "plt.grid()\n",
        "plt.title('Training process')\n",
        "plt.xlabel('Iterations')\n",
        "plt.ylabel('Loss function');"
      ],
      "execution_count": null,
      "outputs": [
        {
          "output_type": "display_data",
          "data": {
            "image/png": "[encoded data removed]",
            "text/plain": [
              "<Figure size 1008x864 with 1 Axes>"
            ]
          },
          "metadata": {
            "tags": [],
            "needs_background": "light"
          }
        }
      ]
    },
    {
      "cell_type": "code",
      "metadata": {
        "id": "vigk5CgmIDsP"
      },
      "source": [
        ""
      ],
      "execution_count": null,
      "outputs": []
    },
    {
      "cell_type": "markdown",
      "metadata": {
        "id": "axU2DnJ1IT1J"
      },
      "source": [
        "# Тестирование"
      ]
    },
    {
      "cell_type": "markdown",
      "metadata": {
        "id": "4sd8o1ZbIEXH"
      },
      "source": [
        "А как это тестировать? Да, очень просто нужно просто выполнять форвард без бэкворда, то есть последовательно применять преобразования с обученными весами"
      ]
    },
    {
      "cell_type": "code",
      "metadata": {
        "id": "7DKeGWwzIliO"
      },
      "source": [
        "losses_test = []\n",
        "predicted = []\n",
        "true_lbls = []\n",
        "\n",
        "for x, y in test_loader:\n",
        "\n",
        "  x = x.view(x.shape[0], -1).numpy()\n",
        "  y = np.expand_dims(y.numpy(), 1)\n",
        "\n",
        "  h1 = x.dot(w1) + b1 #переход в одномерное пространство\n",
        "  p = 1/(1+np.exp(-h1)) #преобразование в \"вероятности\"\n",
        "  \n",
        "  bce = (-np.sum(np.multiply(np.log(p), y) + np.multiply((1 - y), np.log(1 - p)))) / batch_size \n",
        "  #расчет энтропии с усреднением по размеру бача\n",
        "    \n",
        "  losses_test.append(bce)\n",
        "  predicted.extend(p)\n",
        "  true_lbls.extend(y) "
      ],
      "execution_count": 139,
      "outputs": []
    },
    {
      "cell_type": "markdown",
      "metadata": {
        "id": "259SOuP5K2HR"
      },
      "source": [
        "Проверим, что для каждого семплау нас есть предсказание"
      ]
    },
    {
      "cell_type": "code",
      "metadata": {
        "id": "J3NQGFxfJY-4",
        "outputId": "d3ac498b-b0c2-4eaa-ed65-f2b6205a3325",
        "colab": {
          "base_uri": "https://localhost:8080/",
          "height": 34
        }
      },
      "source": [
        "print(len(predicted), len(true_lbls))"
      ],
      "execution_count": 140,
      "outputs": [
        {
          "output_type": "stream",
          "text": [
            "2038 2038\n"
          ],
          "name": "stdout"
        }
      ]
    },
    {
      "cell_type": "markdown",
      "metadata": {
        "id": "xWJ3fjLhK9z4"
      },
      "source": [
        "Теперь применим стандартную Ф меру и оценим нашу модель"
      ]
    },
    {
      "cell_type": "code",
      "metadata": {
        "id": "BbD-n9rVJlBe",
        "outputId": "50ec9cd1-d798-4dd9-cc78-3420bc25c8fa",
        "colab": {
          "base_uri": "https://localhost:8080/",
          "height": 34
        }
      },
      "source": [
        "from sklearn.metrics import f1_score\n",
        "pred = np.array([round(i[0]) for i in predicted]) \n",
        "# У нас были вероятности а нужны классы поэтому просто округлим каждое значени и получим лейблы \n",
        "t_lbls = np.array(true_lbls).squeeze() #снимем лишнюю размерность\n",
        "f1 = f1_score(pred, t_lbls, average='weighted')\n",
        "print('F1 score is equal to: {0:0.02f}'.format(f1))"
      ],
      "execution_count": 141,
      "outputs": [
        {
          "output_type": "stream",
          "text": [
            "F1 score is equal to: 0.98\n"
          ],
          "name": "stdout"
        }
      ]
    },
    {
      "cell_type": "markdown",
      "metadata": {
        "id": "vMxfUk9DLfNx"
      },
      "source": [
        "Сделайте тоже самое для своей модели..."
      ]
    },
    {
      "cell_type": "code",
      "metadata": {
        "id": "plkig1rcLmG_"
      },
      "source": [
        "losses_test = []\n",
        "predicted = []\n",
        "true_lbls = []\n",
        "\n",
        "for x, y in test_loader:\n",
        "\n",
        "  x = x.view(x.shape[0], -1).numpy()\n",
        "  y = np.expand_dims(y.numpy(), 1)\n",
        "\n",
        "  \n",
        "  h1 = x.dot(w1) + b1\n",
        "  h1 = 1/(1+np.exp(-h1))\n",
        "\n",
        "  h2 = h1.dot(w2) + b2\n",
        "  h2 = 1/(1+np.exp(-h2))\n",
        "\n",
        "  bce = (-np.sum(np.multiply(np.log(h2), y) + np.multiply((1 - y), np.log(1 - h2)))) / batch_size \n",
        "    \n",
        "  losses.append(bce)\n",
        "  predicted.extend(h2)\n",
        "  true_lbls.extend(y)"
      ],
      "execution_count": null,
      "outputs": []
    },
    {
      "cell_type": "code",
      "metadata": {
        "id": "3552nl7PmPlr",
        "outputId": "5619760f-eded-443d-f113-d88a257bb344",
        "colab": {
          "base_uri": "https://localhost:8080/",
          "height": 34
        }
      },
      "source": [
        "print(len(predicted), len(true_lbls))"
      ],
      "execution_count": null,
      "outputs": [
        {
          "output_type": "stream",
          "text": [
            "2038 2038\n"
          ],
          "name": "stdout"
        }
      ]
    },
    {
      "cell_type": "code",
      "metadata": {
        "id": "iMIe18b6mRDz",
        "outputId": "8761ff30-73ad-4b3d-fe4e-29cad0ee0251",
        "colab": {
          "base_uri": "https://localhost:8080/",
          "height": 34
        }
      },
      "source": [
        "from sklearn.metrics import f1_score\n",
        "pred = np.array([round(i[0]) for i in predicted]) \n",
        "# У нас были вероятности а нужны классы поэтому просто округлим каждое значени и получим лейблы \n",
        "t_lbls = np.array(true_lbls).squeeze() #снимем лишнюю размерность\n",
        "f1 = f1_score(pred, t_lbls, average='weighted')\n",
        "print('F1 score is equal to: {0:0.02f}'.format(f1))"
      ],
      "execution_count": null,
      "outputs": [
        {
          "output_type": "stream",
          "text": [
            "F1 score is equal to: 0.98\n"
          ],
          "name": "stdout"
        }
      ]
    },
    {
      "cell_type": "markdown",
      "metadata": {
        "id": "zHg6S-QgN_Mm"
      },
      "source": [
        "# Немного торча"
      ]
    },
    {
      "cell_type": "code",
      "metadata": {
        "id": "rWON-EQvN_Mn"
      },
      "source": [
        "import torch"
      ],
      "execution_count": null,
      "outputs": []
    },
    {
      "cell_type": "markdown",
      "metadata": {
        "id": "MYyJMcmQN_Mq"
      },
      "source": [
        "### Мы можем определить нашу модель как последовательность уже существующих слоев, как в керасе"
      ]
    },
    {
      "cell_type": "code",
      "metadata": {
        "id": "7WkLbwyAN_Mr",
        "outputId": "ceba80ba-95f2-4132-a5ac-0d2958503bc8",
        "colab": {
          "base_uri": "https://localhost:8080/",
          "height": 121
        }
      },
      "source": [
        "model = torch.nn.Sequential()\n",
        "\n",
        "model.add_module(name='linear_1', module=torch.nn.Linear(in_features=784, out_features=256))\n",
        "model.add_module(name='relu', module=torch.nn.ReLU())\n",
        "model.add_module(name='linear_2', module=torch.nn.Linear(in_features=256, out_features=1))\n",
        "model.add_module(name='sigmoid', module=torch.nn.Sigmoid())\n",
        "\n",
        "model"
      ],
      "execution_count": null,
      "outputs": [
        {
          "output_type": "execute_result",
          "data": {
            "text/plain": [
              "Sequential(\n",
              "  (linear_1): Linear(in_features=784, out_features=256, bias=True)\n",
              "  (relu): ReLU()\n",
              "  (linear_2): Linear(in_features=256, out_features=1, bias=True)\n",
              "  (sigmoid): Sigmoid()\n",
              ")"
            ]
          },
          "metadata": {
            "tags": []
          },
          "execution_count": 92
        }
      ]
    },
    {
      "cell_type": "markdown",
      "metadata": {
        "id": "xFnSynhmN_Mw"
      },
      "source": [
        "### Либо так"
      ]
    },
    {
      "cell_type": "code",
      "metadata": {
        "id": "NjBXbnSNN_Mx",
        "outputId": "4f7f8e41-0257-414f-a5c5-564dc355f65d",
        "colab": {
          "base_uri": "https://localhost:8080/",
          "height": 121
        }
      },
      "source": [
        "model = torch.nn.Sequential(\n",
        "    torch.nn.Linear(in_features=784, out_features=256),\n",
        "    torch.nn.ReLU(),\n",
        "    torch.nn.Linear(in_features=256, out_features=1),\n",
        "    torch.nn.Sigmoid()\n",
        ")\n",
        "\n",
        "model"
      ],
      "execution_count": null,
      "outputs": [
        {
          "output_type": "execute_result",
          "data": {
            "text/plain": [
              "Sequential(\n",
              "  (0): Linear(in_features=784, out_features=256, bias=True)\n",
              "  (1): ReLU()\n",
              "  (2): Linear(in_features=256, out_features=1, bias=True)\n",
              "  (3): Sigmoid()\n",
              ")"
            ]
          },
          "metadata": {
            "tags": []
          },
          "execution_count": 93
        }
      ]
    },
    {
      "cell_type": "markdown",
      "metadata": {
        "id": "MKOnBBifN_M1"
      },
      "source": [
        "## А вот для чего нужно было писать в домашке классы\n",
        "## Для определения своих моделей/слоев/чего вам захочется нам нужно сделать такую структуру"
      ]
    },
    {
      "cell_type": "code",
      "metadata": {
        "id": "iNXM6WnUN_M9"
      },
      "source": [
        "# наследуемся от класса torch.nn.Module\n",
        "class MLP(torch.nn.Module):\n",
        "    \n",
        "    # определяем метод __init__\n",
        "    # он нужен для того, чтобы мы могли определить нужные нам слои, веса, сохраняемые операции\n",
        "    # \n",
        "    # передаем ссылку на самого себя первым параметром\n",
        "    # \n",
        "    # определяем любые другие передаваемые аргументы\n",
        "    # могут быть чем угодно: числа, словари, другие слои, другие модели и вообще все что угодно\n",
        "    # \n",
        "    def __init__(self, in_features, inner_features, out_features):\n",
        "        \n",
        "        # Главная задача этого метода - возможность использования в классе потомке, методов класса-родителя\n",
        "        # Вызываем __init__ родителя - torch.nn.Module\n",
        "        super().__init__()\n",
        "        \n",
        "        # определяем слои и все что захотим сохранять/использовать\n",
        "        self.linear_1 = torch.nn.Linear(in_features=in_features, out_features=inner_features)\n",
        "        self.non_linear_function = torch.nn.ReLU()\n",
        "        self.linear_2 = torch.nn.Linear(in_features=inner_features, out_features=out_features)\n",
        "        self.sigmoid = torch.nn.Sigmoid()\n",
        "        \n",
        "    # нам нужно обязательно реализовать метод forward\n",
        "    # это то, что нашей модели нужно делать, как оперировать с входными данными, как рассчитывать\n",
        "    # метод backward нам не нужно реализовывать, потому что в торче есть автоматическое дифференцирование\n",
        "    # главное, чтобы наши операции были дифференцируемы\n",
        "    # некоторые подробности можете узнать здесь:\n",
        "    # https://pytorch.org/tutorials/beginner/blitz/autograd_tutorial.html#sphx-glr-beginner-blitz-autograd-tutorial-py\n",
        "    # также список доступных дифференцируемых операций можете посмотреть здесь:\n",
        "    # https://pytorch.org/docs/stable/tensors.html\n",
        "    def forward(self, x):\n",
        "        \n",
        "        # наша привычная схема\n",
        "        x = self.linear_1(x)\n",
        "        x = self.non_linear_function(x)\n",
        "        x = self.linear_2(x)\n",
        "        x = self.sigmoid(x)\n",
        "        \n",
        "        return x\n",
        "    \n",
        "    # мы также можем реализовать любые другие полезные нам методы внутри класса"
      ],
      "execution_count": null,
      "outputs": []
    },
    {
      "cell_type": "code",
      "metadata": {
        "id": "Ftetvx8MN_NA"
      },
      "source": [
        "# определяем нашу модель\n",
        "model = MLP(in_features=784, inner_features=256, out_features=1)"
      ],
      "execution_count": null,
      "outputs": []
    },
    {
      "cell_type": "code",
      "metadata": {
        "id": "G3zivrXiN_ND",
        "scrolled": true,
        "outputId": "ec567d07-7742-42c4-e295-a47da779b5e7",
        "colab": {
          "base_uri": "https://localhost:8080/",
          "height": 121
        }
      },
      "source": [
        "model"
      ],
      "execution_count": null,
      "outputs": [
        {
          "output_type": "execute_result",
          "data": {
            "text/plain": [
              "MLP(\n",
              "  (linear_1): Linear(in_features=784, out_features=256, bias=True)\n",
              "  (non_linear_function): ReLU()\n",
              "  (linear_2): Linear(in_features=256, out_features=1, bias=True)\n",
              "  (sigmoid): Sigmoid()\n",
              ")"
            ]
          },
          "metadata": {
            "tags": []
          },
          "execution_count": 96
        }
      ]
    },
    {
      "cell_type": "code",
      "metadata": {
        "id": "pa4BG_t_N_NG",
        "outputId": "6778ba06-e643-4266-e2ea-05519a077353",
        "colab": {
          "base_uri": "https://localhost:8080/",
          "height": 34
        }
      },
      "source": [
        "# можем посмотреть веса\n",
        "model.linear_1.weight.shape"
      ],
      "execution_count": null,
      "outputs": [
        {
          "output_type": "execute_result",
          "data": {
            "text/plain": [
              "torch.Size([256, 784])"
            ]
          },
          "metadata": {
            "tags": []
          },
          "execution_count": 97
        }
      ]
    },
    {
      "cell_type": "code",
      "metadata": {
        "id": "n2hPqcyxN_NQ"
      },
      "source": [
        "# еще нам нужно задать функцию потерь \n",
        "criterion = torch.nn.BCELoss()"
      ],
      "execution_count": null,
      "outputs": []
    },
    {
      "cell_type": "code",
      "metadata": {
        "id": "IEpYutCqN_Na"
      },
      "source": [
        "# и оптимизатор, куда нужно передать параметры модели\n",
        "# параметры модели можно взять методом класса .parameters()\n",
        "optimizer = torch.optim.SGD(params=model.parameters(), lr=0.01)"
      ],
      "execution_count": null,
      "outputs": []
    },
    {
      "cell_type": "code",
      "metadata": {
        "id": "V-ssB6KsN_Nf",
        "outputId": "81bd0092-7af4-4b02-9680-b65df1d949be",
        "colab": {
          "base_uri": "https://localhost:8080/",
          "height": 1000
        }
      },
      "source": [
        "# можем посмотреть на параметры нашей модели\n",
        "params = list(model.parameters())\n",
        "params"
      ],
      "execution_count": null,
      "outputs": [
        {
          "output_type": "execute_result",
          "data": {
            "text/plain": [
              "[Parameter containing:\n",
              " tensor([[ 0.0261,  0.0317,  0.0062,  ...,  0.0048, -0.0265,  0.0283],\n",
              "         [-0.0201, -0.0072, -0.0055,  ..., -0.0054,  0.0289,  0.0315],\n",
              "         [ 0.0082,  0.0096,  0.0179,  ...,  0.0039,  0.0261,  0.0306],\n",
              "         ...,\n",
              "         [ 0.0036, -0.0027,  0.0085,  ..., -0.0076, -0.0223,  0.0285],\n",
              "         [-0.0257, -0.0274, -0.0262,  ..., -0.0341,  0.0137, -0.0039],\n",
              "         [-0.0296,  0.0164, -0.0046,  ..., -0.0232, -0.0097,  0.0128]],\n",
              "        requires_grad=True), Parameter containing:\n",
              " tensor([ 1.6386e-02, -1.5820e-04,  1.2242e-03, -2.8273e-02, -1.1545e-04,\n",
              "          3.2405e-02, -3.5705e-02,  2.4133e-02, -2.6031e-02,  1.2140e-02,\n",
              "          5.9891e-03,  1.1183e-02, -6.9937e-03, -6.4354e-03,  2.1040e-02,\n",
              "         -2.1442e-02, -2.0968e-02,  2.6894e-04,  7.0454e-03, -2.5918e-02,\n",
              "          1.5294e-02,  1.0891e-02, -1.0849e-02, -7.0666e-03, -8.8974e-03,\n",
              "         -8.6106e-03, -1.3679e-02, -2.2621e-02,  1.4727e-02,  5.9190e-03,\n",
              "         -1.9932e-02, -1.2790e-02,  2.8026e-02, -2.2703e-02, -2.0008e-02,\n",
              "          1.0726e-03,  1.7026e-02, -9.1690e-03,  1.3468e-03,  1.0532e-02,\n",
              "          2.0884e-02,  8.0662e-05, -2.0641e-02, -3.0261e-02,  1.3422e-02,\n",
              "         -2.6593e-02,  6.6897e-03, -3.0305e-02, -6.1213e-03, -3.2339e-04,\n",
              "          8.0907e-03,  1.6374e-02,  3.0498e-02,  6.9881e-03,  2.5094e-02,\n",
              "         -6.0686e-03, -1.9004e-02,  3.5427e-02, -2.1953e-02, -1.0505e-03,\n",
              "         -1.8864e-02, -9.0884e-03, -2.4736e-02, -5.4327e-03,  3.3536e-02,\n",
              "          3.1115e-02,  3.4168e-02, -2.6934e-02,  2.9191e-02,  2.2295e-02,\n",
              "         -2.1333e-03, -2.7293e-02, -2.7729e-02,  3.2532e-02, -1.2611e-02,\n",
              "         -2.1107e-02, -2.8034e-02, -2.9814e-02, -3.5232e-02,  1.9251e-02,\n",
              "          9.2989e-03,  5.8152e-03, -2.9657e-02, -3.0489e-02, -2.0629e-02,\n",
              "         -1.4230e-02,  5.3591e-03,  1.1499e-02, -2.9555e-02,  2.8020e-02,\n",
              "          1.7149e-02, -1.3046e-02,  6.4713e-03,  3.0245e-02, -1.4718e-02,\n",
              "          3.1321e-02,  3.0603e-03, -2.9896e-02, -1.5784e-02,  5.3195e-03,\n",
              "         -1.6070e-02, -3.4559e-02,  2.9133e-02, -1.7787e-02, -2.6121e-02,\n",
              "         -3.2319e-02,  5.0827e-03,  9.7685e-03,  3.5253e-02,  1.8139e-04,\n",
              "          1.0459e-02, -2.1619e-02,  4.1370e-04, -1.0614e-02, -1.6998e-02,\n",
              "          1.3578e-02, -2.3617e-02, -3.4930e-03, -1.3737e-02,  1.6449e-03,\n",
              "          2.2323e-02,  2.8401e-02,  1.5844e-02, -1.5972e-02, -8.7792e-03,\n",
              "          2.5405e-02,  2.3020e-02, -1.0909e-02, -8.2305e-03,  6.7653e-04,\n",
              "         -2.4422e-02, -2.4578e-02, -4.7402e-04,  3.4423e-02, -3.0536e-02,\n",
              "          1.1135e-02, -1.0786e-02, -3.3446e-02, -6.6868e-03,  3.5565e-02,\n",
              "          1.9337e-02,  3.1539e-02,  1.2949e-02, -3.2353e-02, -2.9089e-02,\n",
              "         -1.4440e-02, -2.5469e-02,  9.7935e-03, -3.5627e-02,  5.0167e-03,\n",
              "          8.1953e-03, -2.9604e-02, -1.8090e-02,  5.8185e-03,  2.9548e-02,\n",
              "         -1.5842e-02,  1.1504e-02, -2.3303e-02, -1.8884e-02, -1.8816e-04,\n",
              "         -3.3971e-02,  1.4906e-02,  2.9351e-02,  2.2234e-02,  1.1360e-02,\n",
              "          3.3352e-02, -2.2883e-03,  1.2450e-02,  2.7377e-04,  5.6211e-04,\n",
              "         -3.4497e-02, -1.8854e-03, -8.6338e-03,  2.9167e-02,  2.2869e-02,\n",
              "          3.1866e-02, -9.3895e-03,  2.4654e-02, -2.6732e-02,  3.8523e-04,\n",
              "         -4.4258e-03,  3.3719e-02, -1.5081e-02,  1.6975e-02, -3.0248e-02,\n",
              "          7.4505e-03, -1.2098e-02,  1.9679e-02,  2.9343e-03, -3.7676e-03,\n",
              "         -2.6905e-02,  2.4512e-02, -1.4306e-02, -2.8104e-03,  1.0190e-02,\n",
              "          1.3336e-02, -5.0746e-04,  1.1869e-02,  2.0803e-02,  3.0038e-02,\n",
              "         -1.6105e-02,  9.9250e-03,  1.9161e-02, -3.1398e-02, -4.3457e-03,\n",
              "          2.5373e-02,  2.7828e-02, -1.2628e-02,  1.4421e-02, -7.4245e-04,\n",
              "          5.5285e-03,  5.0103e-03, -1.6343e-02, -1.4064e-02, -1.2994e-02,\n",
              "         -1.5022e-02, -2.2913e-02,  2.1141e-02,  3.5360e-02, -2.8746e-02,\n",
              "         -6.8863e-03,  2.8187e-02, -3.2122e-02,  1.0173e-02,  4.2220e-03,\n",
              "         -1.5541e-02,  6.7500e-03, -1.9924e-02,  3.3576e-02, -2.8003e-02,\n",
              "         -3.5118e-02, -2.0227e-02,  1.0748e-02,  2.3927e-02,  1.8189e-02,\n",
              "         -1.7056e-02,  3.2209e-02,  2.1307e-02,  2.4372e-02, -2.3682e-02,\n",
              "         -1.8724e-02, -1.3637e-02,  1.7156e-02, -2.4989e-02,  1.6082e-02,\n",
              "          1.2912e-02, -2.1489e-04, -4.9290e-03, -2.1535e-03,  3.3304e-02,\n",
              "         -2.1240e-02,  3.1145e-02,  9.8357e-04, -2.0838e-02, -2.6961e-02,\n",
              "         -1.5919e-02], requires_grad=True), Parameter containing:\n",
              " tensor([[ 0.0104,  0.0573, -0.0270, -0.0381,  0.0332,  0.0129, -0.0311, -0.0081,\n",
              "          -0.0540, -0.0373, -0.0574, -0.0477, -0.0203, -0.0387, -0.0510,  0.0067,\n",
              "          -0.0532, -0.0397, -0.0031,  0.0243,  0.0539, -0.0116, -0.0164,  0.0558,\n",
              "          -0.0289,  0.0041, -0.0563, -0.0347, -0.0466,  0.0517, -0.0409,  0.0278,\n",
              "          -0.0393, -0.0461,  0.0064, -0.0474, -0.0242, -0.0337,  0.0340,  0.0336,\n",
              "          -0.0226, -0.0569, -0.0510,  0.0216,  0.0340, -0.0309,  0.0521,  0.0389,\n",
              "           0.0348,  0.0220,  0.0289,  0.0290,  0.0406, -0.0032, -0.0339, -0.0477,\n",
              "          -0.0108, -0.0188,  0.0305, -0.0595, -0.0066, -0.0333, -0.0142,  0.0082,\n",
              "          -0.0507,  0.0430,  0.0268,  0.0249, -0.0566, -0.0184,  0.0525, -0.0182,\n",
              "           0.0344,  0.0089,  0.0413,  0.0053, -0.0575,  0.0612, -0.0569, -0.0434,\n",
              "          -0.0621,  0.0489, -0.0371, -0.0361, -0.0362, -0.0337,  0.0308,  0.0261,\n",
              "          -0.0151, -0.0199, -0.0405,  0.0534,  0.0003, -0.0503, -0.0579,  0.0578,\n",
              "           0.0445, -0.0544,  0.0393,  0.0353,  0.0437,  0.0252, -0.0214, -0.0114,\n",
              "           0.0480, -0.0157, -0.0292, -0.0472,  0.0388, -0.0239, -0.0139, -0.0296,\n",
              "          -0.0254, -0.0603, -0.0305,  0.0525, -0.0155,  0.0048, -0.0046,  0.0484,\n",
              "          -0.0304,  0.0242, -0.0456, -0.0325, -0.0372,  0.0183, -0.0588,  0.0569,\n",
              "          -0.0409,  0.0234, -0.0547, -0.0412, -0.0010,  0.0247,  0.0113,  0.0265,\n",
              "           0.0215, -0.0161, -0.0140,  0.0572, -0.0443,  0.0437,  0.0225,  0.0258,\n",
              "          -0.0537,  0.0583, -0.0529,  0.0452, -0.0238, -0.0590,  0.0112, -0.0252,\n",
              "           0.0441,  0.0221,  0.0173, -0.0571,  0.0430, -0.0344, -0.0388,  0.0293,\n",
              "           0.0293,  0.0440,  0.0149,  0.0415,  0.0071,  0.0141,  0.0312, -0.0139,\n",
              "          -0.0530,  0.0105,  0.0192,  0.0336, -0.0323,  0.0353, -0.0486, -0.0027,\n",
              "           0.0178, -0.0186,  0.0534, -0.0516, -0.0444,  0.0432,  0.0265,  0.0369,\n",
              "           0.0051,  0.0123, -0.0541,  0.0528,  0.0307, -0.0113,  0.0199,  0.0133,\n",
              "          -0.0230, -0.0541, -0.0456,  0.0399,  0.0531, -0.0023,  0.0470, -0.0028,\n",
              "           0.0256, -0.0419,  0.0531, -0.0400, -0.0422,  0.0004,  0.0154,  0.0514,\n",
              "           0.0052, -0.0611, -0.0481, -0.0590,  0.0138,  0.0061,  0.0545,  0.0372,\n",
              "           0.0452,  0.0087, -0.0263, -0.0258,  0.0598, -0.0058,  0.0547,  0.0549,\n",
              "           0.0595, -0.0585,  0.0193, -0.0292, -0.0572, -0.0487,  0.0510,  0.0444,\n",
              "          -0.0104,  0.0055, -0.0215,  0.0214,  0.0209, -0.0431, -0.0435,  0.0074,\n",
              "           0.0476,  0.0246, -0.0437, -0.0337,  0.0312, -0.0171,  0.0041,  0.0186,\n",
              "           0.0534,  0.0422, -0.0392,  0.0201,  0.0016,  0.0487, -0.0050,  0.0396]],\n",
              "        requires_grad=True), Parameter containing:\n",
              " tensor([-0.0533], requires_grad=True)]"
            ]
          },
          "metadata": {
            "tags": []
          },
          "execution_count": 100
        }
      ]
    },
    {
      "cell_type": "markdown",
      "metadata": {
        "id": "5dnDbvw0N_No"
      },
      "source": [
        "# Обучим нашу модель"
      ]
    },
    {
      "cell_type": "code",
      "metadata": {
        "id": "O8ayasdLN_Np"
      },
      "source": [
        "# давайте сохранять значения нашей функции потерь каждую итерацию обучения\n",
        "losses = []\n",
        "\n",
        "# эта штука все еще отдает нам батчи данных\n",
        "# мы поговорим про нее позже\n",
        "for x, y in train_loader:\n",
        "\n",
        "    x = x.view(x.shape[0], -1)\n",
        "    y = y.unsqueeze(1).float()\n",
        "    \n",
        "    # обновим наши градиенты\n",
        "    # будем делать это каждую итерацию обучения\n",
        "    # потому что торч сохраняет в себе все градиенты пока не удалите таким образом рассчитанные градиенты\n",
        "    # \n",
        "    # НЕОБЯЗАТЕЛЬНЫЕ ДЕТАЛИ\n",
        "    # функция сохранения градиентов нужна для аккамуляции градиентов\n",
        "    # например, когда нам не хватает памяти на большой батч\n",
        "    # мы можем несколько раз прогнать forward на разных батчах\n",
        "    # наши градиенты будут сохраняться\n",
        "    # и только потом обновить через несколько итераций forward обновить наши веса\n",
        "    # таким образом у нас получается больше батч\n",
        "    # \n",
        "    optimizer.zero_grad()\n",
        "    \n",
        "    # \n",
        "    # предсказание нашей модели\n",
        "    # здесь торч сам сохраняет необходимую информацию\n",
        "    # чтобы понять эту логику у нас как раз и была часть домашки про собственные классы\n",
        "    # \n",
        "    # торч строит динамический граф вычислений\n",
        "    # то есть строит граф по тем операциям, которые вы определили в методе forward\n",
        "    # \n",
        "    # то есть торч понимает, что вы сначала применили линейное преобразование\n",
        "    # знает, где лежат веса для этого линейного преобразования\n",
        "    # знает, что вы затем применили релу\n",
        "    # затем опять линейное преобразование\n",
        "    # затем сигмоиду\n",
        "    # и вот таким образом торч выстроил граф\n",
        "    # который нужен будет для backpropogation\n",
        "    # \n",
        "    pred = model(x)\n",
        "    \n",
        "    # \n",
        "    # рассчитываем функцию потерь, добавляя в наш граф вычислений этот узел\n",
        "    # \n",
        "    loss = criterion(pred, y.float())\n",
        "    \n",
        "    # \n",
        "    # вызываем метод backward() от нашей функции потерь (это крайний узел нашего графа вычислений)\n",
        "    # этот метод проходит от конца графа в начало, вычисляя необходимые градиенты\n",
        "    # передаем градиенты на следующие узлы\n",
        "    # для весов сохраняет\n",
        "    # \n",
        "    # то есть это почти то же самое, что мы делали в домашке с классами\n",
        "    # \n",
        "    loss.backward()\n",
        "    \n",
        "    # \n",
        "    # теперь мы знаем необходимые градиенты и можем обновить веса с помощью градиентного спуска\n",
        "    # \n",
        "    optimizer.step()\n",
        "    \n",
        "    # \n",
        "    # сохраним текущее значение функции потерь, чтобы потом могли посмотреть на график\n",
        "    # очень важный момент: нам нужно отсоединить значение нашей фунции потерь от графа вычислений\n",
        "    # чтобы граф не строился дальше на каждой итерации обучения\n",
        "    # так мы рано или поздно переполним память\n",
        "    # поэтому вызываем этот метод\n",
        "    # работает для скаляров\n",
        "    # \n",
        "    # для тензоров работает метод .tolist()\n",
        "    # \n",
        "    current_loss_value = loss.item()\n",
        "    losses.append(loss.item())"
      ],
      "execution_count": null,
      "outputs": []
    },
    {
      "cell_type": "code",
      "metadata": {
        "id": "KhopLN33N_Nw"
      },
      "source": [
        "# Одна эпоха прошла"
      ],
      "execution_count": null,
      "outputs": []
    },
    {
      "cell_type": "code",
      "metadata": {
        "id": "SIGFnAeMN_Nz",
        "outputId": "0a4defa7-98d9-4ac0-f9a3-58e1391774e7",
        "colab": {
          "base_uri": "https://localhost:8080/",
          "height": 688
        }
      },
      "source": [
        "plt.figure(figsize=(14, 12))\n",
        "plt.plot(losses)\n",
        "plt.grid()\n",
        "plt.title('Training process')\n",
        "plt.xlabel('Iterations')\n",
        "plt.ylabel('Loss function');"
      ],
      "execution_count": null,
      "outputs": [
        {
          "output_type": "display_data",
          "data": {
            "image/png": "[encoded data removed]",
            "text/plain": [
              "<Figure size 1008x864 with 1 Axes>"
            ]
          },
          "metadata": {
            "tags": [],
            "needs_background": "light"
          }
        }
      ]
    },
    {
      "cell_type": "markdown",
      "metadata": {
        "id": "8oBFJlYrN_N3"
      },
      "source": [
        "# Теперь мы можем что-то предсказать"
      ]
    },
    {
      "cell_type": "code",
      "metadata": {
        "id": "pYQ-5cXnN_N4"
      },
      "source": [
        "for x, y in test_loader:\n",
        "\n",
        "    x = x.view(x.shape[0], -1)\n",
        "    y = y.unsqueeze(1).float()\n",
        "    \n",
        "    # чтобы не ходить по всему тестовому датасету, прекратим ходить после первой итерации\n",
        "    break"
      ],
      "execution_count": null,
      "outputs": []
    },
    {
      "cell_type": "code",
      "metadata": {
        "id": "Rb3ImXPNN_N_",
        "outputId": "f76858ce-c92e-4c23-9053-88140540888c",
        "colab": {
          "base_uri": "https://localhost:8080/",
          "height": 34
        }
      },
      "source": [
        "x.shape"
      ],
      "execution_count": null,
      "outputs": [
        {
          "output_type": "execute_result",
          "data": {
            "text/plain": [
              "torch.Size([128, 784])"
            ]
          },
          "metadata": {
            "tags": []
          },
          "execution_count": 119
        }
      ]
    },
    {
      "cell_type": "code",
      "metadata": {
        "id": "5V_GO6_zN_OE",
        "outputId": "29a31191-96b8-497c-fb58-8ac6dc4adf1f",
        "colab": {
          "base_uri": "https://localhost:8080/",
          "height": 34
        }
      },
      "source": [
        "y.shape"
      ],
      "execution_count": null,
      "outputs": [
        {
          "output_type": "execute_result",
          "data": {
            "text/plain": [
              "torch.Size([128, 1])"
            ]
          },
          "metadata": {
            "tags": []
          },
          "execution_count": 120
        }
      ]
    },
    {
      "cell_type": "code",
      "metadata": {
        "id": "_zHM8GRpN_OG",
        "outputId": "00ebe471-a411-4900-e65a-05650d15e677",
        "colab": {
          "base_uri": "https://localhost:8080/",
          "height": 121
        }
      },
      "source": [
        "# переходим в режим предсказания\n",
        "# \n",
        "# позже в курсе мы разберем зачем конкретно это нужно\n",
        "# \n",
        "# для искушенного нетерпеливого читателя: дропаут больше не дропаутит, батч норм больше не нормирует каждый батч\n",
        "# а использует накопленную статистику при обучении и тд\n",
        "# \n",
        "model.eval()"
      ],
      "execution_count": null,
      "outputs": [
        {
          "output_type": "execute_result",
          "data": {
            "text/plain": [
              "MLP(\n",
              "  (linear_1): Linear(in_features=784, out_features=256, bias=True)\n",
              "  (non_linear_function): ReLU()\n",
              "  (linear_2): Linear(in_features=256, out_features=1, bias=True)\n",
              "  (sigmoid): Sigmoid()\n",
              ")"
            ]
          },
          "metadata": {
            "tags": []
          },
          "execution_count": 121
        }
      ]
    },
    {
      "cell_type": "code",
      "metadata": {
        "id": "CT4N0ZAPN_OI"
      },
      "source": [
        "# этот контект позволяет не сохранять необходимую информацию для рассчета градиентов\n",
        "with torch.no_grad():\n",
        "\n",
        "    pred = model(x)"
      ],
      "execution_count": null,
      "outputs": []
    },
    {
      "cell_type": "code",
      "metadata": {
        "id": "R48ZI_iJN_OK",
        "outputId": "a9bfba09-d874-4260-de73-a43e0f2f4202",
        "colab": {
          "base_uri": "https://localhost:8080/",
          "height": 34
        }
      },
      "source": [
        "pred.shape"
      ],
      "execution_count": null,
      "outputs": [
        {
          "output_type": "execute_result",
          "data": {
            "text/plain": [
              "torch.Size([128, 1])"
            ]
          },
          "metadata": {
            "tags": []
          },
          "execution_count": 123
        }
      ]
    },
    {
      "cell_type": "code",
      "metadata": {
        "id": "Azbcidg1N_OM"
      },
      "source": [
        "# избавимся от единичной размерности\n",
        "pred = pred.squeeze()\n",
        "y = y.squeeze()"
      ],
      "execution_count": null,
      "outputs": []
    },
    {
      "cell_type": "code",
      "metadata": {
        "id": "L7zm8vzBN_OO",
        "outputId": "68e4b53b-3ac0-4459-fa16-ae33c84f9914",
        "colab": {
          "base_uri": "https://localhost:8080/",
          "height": 34
        }
      },
      "source": [
        "pred.shape"
      ],
      "execution_count": null,
      "outputs": [
        {
          "output_type": "execute_result",
          "data": {
            "text/plain": [
              "torch.Size([128])"
            ]
          },
          "metadata": {
            "tags": []
          },
          "execution_count": 125
        }
      ]
    },
    {
      "cell_type": "code",
      "metadata": {
        "id": "JBARJLDIN_OT"
      },
      "source": [
        "# таким образом из торчовых тензоров мы можем сделать нумпаевские массивы\n",
        "pred = pred.numpy()\n",
        "y = y.numpy()"
      ],
      "execution_count": null,
      "outputs": []
    },
    {
      "cell_type": "code",
      "metadata": {
        "id": "8Y4gi0q7N_OZ",
        "outputId": "56ce24c6-b86c-48d2-d8a7-76affb5720de",
        "colab": {
          "base_uri": "https://localhost:8080/",
          "height": 156
        }
      },
      "source": [
        "y"
      ],
      "execution_count": null,
      "outputs": [
        {
          "output_type": "execute_result",
          "data": {
            "text/plain": [
              "array([1., 1., 0., 1., 0., 0., 1., 1., 1., 0., 0., 1., 0., 1., 0., 1., 1.,\n",
              "       0., 1., 1., 1., 1., 0., 0., 0., 1., 1., 0., 1., 1., 1., 1., 1., 0.,\n",
              "       1., 0., 1., 0., 1., 0., 0., 0., 0., 0., 1., 1., 1., 0., 0., 1., 1.,\n",
              "       0., 1., 1., 1., 1., 0., 1., 1., 1., 0., 0., 0., 0., 1., 0., 0., 1.,\n",
              "       0., 0., 1., 0., 1., 0., 0., 1., 0., 0., 1., 1., 1., 1., 0., 1., 0.,\n",
              "       0., 0., 0., 0., 0., 1., 1., 0., 1., 0., 0., 0., 1., 0., 1., 0., 0.,\n",
              "       0., 0., 0., 1., 1., 1., 1., 0., 0., 0., 0., 0., 0., 1., 1., 0., 0.,\n",
              "       1., 0., 1., 1., 0., 1., 0., 0., 1.], dtype=float32)"
            ]
          },
          "metadata": {
            "tags": []
          },
          "execution_count": 127
        }
      ]
    },
    {
      "cell_type": "code",
      "metadata": {
        "id": "QPlZdMfiN_Og",
        "outputId": "49d4852e-5911-4152-9fa5-c2535aeef5d2",
        "colab": {
          "base_uri": "https://localhost:8080/",
          "height": 34
        }
      },
      "source": [
        "type(y)"
      ],
      "execution_count": null,
      "outputs": [
        {
          "output_type": "execute_result",
          "data": {
            "text/plain": [
              "numpy.ndarray"
            ]
          },
          "metadata": {
            "tags": []
          },
          "execution_count": 128
        }
      ]
    },
    {
      "cell_type": "code",
      "metadata": {
        "id": "Ck7Voa7HN_Ok"
      },
      "source": [
        "# бинаризируем наши предсказания\n",
        "pred[pred > 0.5] = 1\n",
        "pred[pred <= 0.5] = 0"
      ],
      "execution_count": null,
      "outputs": []
    },
    {
      "cell_type": "code",
      "metadata": {
        "id": "Ts85uzXFN_Om",
        "outputId": "264542b8-ed48-47fc-a609-4d92023e7db8",
        "colab": {
          "base_uri": "https://localhost:8080/",
          "height": 34
        }
      },
      "source": [
        "# посчитаем метрику на батче\n",
        "accuracy_score(y, pred)"
      ],
      "execution_count": null,
      "outputs": [
        {
          "output_type": "execute_result",
          "data": {
            "text/plain": [
              "0.59375"
            ]
          },
          "metadata": {
            "tags": []
          },
          "execution_count": 130
        }
      ]
    },
    {
      "cell_type": "code",
      "metadata": {
        "id": "yoynJ1-2N_Op"
      },
      "source": [
        "# заново определим нашу модель и выучимся несколько эпох\n",
        "# будут уже новые параметры\n",
        "model = MLP(in_features=784, inner_features=256, out_features=1)\n",
        "\n",
        "criterion = torch.nn.BCELoss()\n",
        "# мы позже поговорим про этот оптимизационный алгоритм\n",
        "optimizer = torch.optim.Adam(params=model.parameters())"
      ],
      "execution_count": null,
      "outputs": []
    },
    {
      "cell_type": "markdown",
      "metadata": {
        "id": "hzBgaRe7N_Os"
      },
      "source": [
        "# Типичный цикл обучения с кучей сохранений лоссов"
      ]
    },
    {
      "cell_type": "code",
      "metadata": {
        "id": "1zO6ruQbN_Ot",
        "outputId": "330c88ae-64b1-407f-c3fe-573d0f32b644",
        "colab": {
          "base_uri": "https://localhost:8080/",
          "height": 314
        }
      },
      "source": [
        "epochs = 10\n",
        "losses = []\n",
        "# нужно для early stopping, то есть трекать лучший лосс на валидации\n",
        "best_test_loss = 10.\n",
        "\n",
        "for n_epoch in range(epochs):\n",
        "    \n",
        "    train_losses = []\n",
        "    test_losses = []\n",
        "    test_preds = []\n",
        "    test_targets = []\n",
        "    \n",
        "    progress_bar = tqdm(total=len(train_loader.dataset), desc='Epoch {}'.format(n_epoch + 1))\n",
        "    \n",
        "    for x, y in train_loader:\n",
        "        \n",
        "        x = x.view(x.shape[0], -1)\n",
        "        y = y.unsqueeze(1).float()\n",
        "        \n",
        "        optimizer.zero_grad()\n",
        "        \n",
        "        pred = model(x)\n",
        "        \n",
        "        loss = criterion(pred, y.float())\n",
        "        \n",
        "        loss.backward()\n",
        "        \n",
        "        optimizer.step()\n",
        "        \n",
        "        train_losses.append(loss.item())\n",
        "        losses.append(loss.item())\n",
        "        \n",
        "        progress_bar.set_postfix(train_loss = np.mean(losses[-100:]))\n",
        "\n",
        "        progress_bar.update(x.shape[0])\n",
        "        \n",
        "    progress_bar.close()\n",
        "    \n",
        "    for x, y in test_loader:\n",
        "        \n",
        "        x = x.view(x.shape[0], -1)\n",
        "        y = y.unsqueeze(1).float()\n",
        "\n",
        "        with torch.no_grad():\n",
        "            \n",
        "            pred = model(x)\n",
        "            \n",
        "        test_preds.append(pred.numpy())\n",
        "        test_targets.append(y.numpy())\n",
        "\n",
        "        loss = criterion(pred, y)\n",
        "\n",
        "        test_losses.append(loss.item())\n",
        "        \n",
        "    mean_test_loss = np.mean(test_losses)\n",
        "        \n",
        "    print('Losses: train - {:.3f}, test = {:.3f}'.format(np.mean(train_losses), mean_test_loss))\n",
        "    \n",
        "    test_preds = np.concatenate(test_preds)\n",
        "    test_preds = test_preds.squeeze()\n",
        "    test_targets = np.concatenate(test_targets).squeeze()\n",
        "    \n",
        "    test_preds[test_preds > 0.5] = 1\n",
        "    test_preds[test_preds <= 0.5] = 0\n",
        "    \n",
        "    accurary = accuracy_score(test_targets, test_preds)\n",
        "\n",
        "    print('Test: accuracy - {:.3f}'.format(accurary))\n",
        "        \n",
        "    # как раз early stopping\n",
        "    # то есть: если наша функция потерь на валидационном датасете стала расти, то прекращаем обучение\n",
        "    # рост фунции потерь на валидационном датасете говорит о переобучении\n",
        "    # пожалуй, самый популярный метод валидации для нейронных сетей\n",
        "    if mean_test_loss < best_test_loss:\n",
        "        best_test_loss = mean_test_loss\n",
        "    else:\n",
        "        print('Early stopping')\n",
        "        break    "
      ],
      "execution_count": null,
      "outputs": [
        {
          "output_type": "stream",
          "text": [
            "Epoch 1: 100%|██████████| 12396/12396 [00:03<00:00, 3656.86it/s, train_loss=0.0673]\n",
            "Epoch 2:   4%|▍         | 512/12396 [00:00<00:03, 3742.62it/s, train_loss=0.0562]"
          ],
          "name": "stderr"
        },
        {
          "output_type": "stream",
          "text": [
            "Losses: train - 0.067, test = 0.045\n",
            "Test: accuracy - 0.985\n"
          ],
          "name": "stdout"
        },
        {
          "output_type": "stream",
          "text": [
            "Epoch 2: 100%|██████████| 12396/12396 [00:03<00:00, 3623.65it/s, train_loss=0.0306]\n",
            "Epoch 3:   4%|▍         | 512/12396 [00:00<00:03, 3868.35it/s, train_loss=0.0295]"
          ],
          "name": "stderr"
        },
        {
          "output_type": "stream",
          "text": [
            "Losses: train - 0.030, test = 0.039\n",
            "Test: accuracy - 0.989\n"
          ],
          "name": "stdout"
        },
        {
          "output_type": "stream",
          "text": [
            "Epoch 3: 100%|██████████| 12396/12396 [00:03<00:00, 3577.54it/s, train_loss=0.0208]\n",
            "Epoch 4:   4%|▍         | 512/12396 [00:00<00:03, 3767.30it/s, train_loss=0.0198]"
          ],
          "name": "stderr"
        },
        {
          "output_type": "stream",
          "text": [
            "Losses: train - 0.020, test = 0.034\n",
            "Test: accuracy - 0.988\n"
          ],
          "name": "stdout"
        },
        {
          "output_type": "stream",
          "text": [
            "Epoch 4: 100%|██████████| 12396/12396 [00:03<00:00, 3657.58it/s, train_loss=0.0124]\n",
            "Epoch 5:   4%|▍         | 512/12396 [00:00<00:03, 3801.84it/s, train_loss=0.0116]"
          ],
          "name": "stderr"
        },
        {
          "output_type": "stream",
          "text": [
            "Losses: train - 0.012, test = 0.022\n",
            "Test: accuracy - 0.992\n"
          ],
          "name": "stdout"
        },
        {
          "output_type": "stream",
          "text": [
            "Epoch 5: 100%|██████████| 12396/12396 [00:03<00:00, 3664.34it/s, train_loss=0.00827]\n"
          ],
          "name": "stderr"
        },
        {
          "output_type": "stream",
          "text": [
            "Losses: train - 0.008, test = 0.025\n",
            "Test: accuracy - 0.993\n",
            "Early stopping\n"
          ],
          "name": "stdout"
        }
      ]
    },
    {
      "cell_type": "code",
      "metadata": {
        "id": "U4URcBJPN_Ow",
        "outputId": "8056358b-6814-4fb4-a3da-ab7b2612166e",
        "colab": {
          "base_uri": "https://localhost:8080/",
          "height": 690
        }
      },
      "source": [
        "plt.figure(figsize=(14, 12))\n",
        "plt.plot(losses)\n",
        "plt.grid()\n",
        "plt.title('Training process')\n",
        "plt.xlabel('Iterations')\n",
        "plt.ylabel('Loss function');"
      ],
      "execution_count": null,
      "outputs": [
        {
          "output_type": "display_data",
          "data": {
            "image/png": "[encoded data removed]",
            "text/plain": [
              "<Figure size 1008x864 with 1 Axes>"
            ]
          },
          "metadata": {
            "tags": [],
            "needs_background": "light"
          }
        }
      ]
    },
    {
      "cell_type": "code",
      "metadata": {
        "id": "y2BcjMUzptDm"
      },
      "source": [
        ""
      ],
      "execution_count": null,
      "outputs": []
    }
  ]
}