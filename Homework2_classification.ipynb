{
  "nbformat": 4,
  "nbformat_minor": 0,
  "metadata": {
    "accelerator": "GPU",
    "colab": {
      "name": "Homework2_classification.ipynb",
      "provenance": [],
      "collapsed_sections": []
    },
    "kernelspec": {
      "display_name": "Python 3",
      "language": "python",
      "name": "python3"
    },
    "language_info": {
      "codemirror_mode": {
        "name": "ipython",
        "version": 3
      },
      "file_extension": ".py",
      "mimetype": "text/x-python",
      "name": "python",
      "nbconvert_exporter": "python",
      "pygments_lexer": "ipython3",
      "version": "3.7.9"
    }
  },
  "cells": [
    {
      "cell_type": "code",
      "metadata": {
        "id": "M4KC-HAPumzH"
      },
      "source": [
        "import matplotlib.pyplot as plt\n",
        "from matplotlib.pyplot import hist\n",
        "from collections import Counter\n",
        "import re"
      ],
      "execution_count": 22,
      "outputs": []
    },
    {
      "cell_type": "code",
      "metadata": {
        "id": "TosyIB8ZQzH3"
      },
      "source": [
        "!pip install -U -q PyDrive\n",
        "from pydrive.auth import GoogleAuth\n",
        "from pydrive.drive import GoogleDrive\n",
        "from google.colab import auth\n",
        "from oauth2client.client import GoogleCredentials\n",
        "auth.authenticate_user()\n",
        "gauth = GoogleAuth()\n",
        "gauth.credentials = GoogleCredentials.get_application_default()\n",
        "drive = GoogleDrive(gauth)"
      ],
      "execution_count": 23,
      "outputs": []
    },
    {
      "cell_type": "markdown",
      "metadata": {
        "id": "2kT_NYOoy3Z0"
      },
      "source": [
        "Загрузим файл на виртуальную среду "
      ]
    },
    {
      "cell_type": "code",
      "metadata": {
        "id": "tNAUuVd7Q5JI"
      },
      "source": [
        "idd = '1dAaDSuWAdQaSNEN5Xp67SBg0ALtKJowr'\n",
        "downloaded_ = drive.CreateFile({'id':idd}) \n",
        "downloaded_.GetContentFile('train.csv')\n",
        "\n",
        "import pandas as pd \n",
        "train = pd.read_csv('train.csv', sep=';')[:100000]"
      ],
      "execution_count": 89,
      "outputs": []
    },
    {
      "cell_type": "markdown",
      "metadata": {
        "id": "s6hBH8GwzPjZ"
      },
      "source": [
        "Так как задачей является классификация продуктов, поэтому информацией заложенной в названии категорий мы можем пренебречь. \n",
        "<br>Замапим категории, чтобы в дальнейшем номер категори можно было использовать как индекс единицы в one hot encoding (расчет Лосс функции), или в терминах вероятности, модель училась генерировать близкое к верному вероятностное распределние, например [1,0,0...0] (распределение для нулевой категори)"
      ]
    },
    {
      "cell_type": "code",
      "metadata": {
        "id": "j0GAD898-gfV",
        "outputId": "f08d7c86-fb50-4400-89e8-abffb35be9c3",
        "colab": {
          "base_uri": "https://localhost:8080/",
          "height": 202
        }
      },
      "source": [
        "train.head(5)"
      ],
      "execution_count": 90,
      "outputs": [
        {
          "output_type": "execute_result",
          "data": {
            "text/html": [
              "<div>\n",
              "<style scoped>\n",
              "    .dataframe tbody tr th:only-of-type {\n",
              "        vertical-align: middle;\n",
              "    }\n",
              "\n",
              "    .dataframe tbody tr th {\n",
              "        vertical-align: top;\n",
              "    }\n",
              "\n",
              "    .dataframe thead th {\n",
              "        text-align: right;\n",
              "    }\n",
              "</style>\n",
              "<table border=\"1\" class=\"dataframe\">\n",
              "  <thead>\n",
              "    <tr style=\"text-align: right;\">\n",
              "      <th></th>\n",
              "      <th>descr</th>\n",
              "      <th>category</th>\n",
              "    </tr>\n",
              "  </thead>\n",
              "  <tbody>\n",
              "    <tr>\n",
              "      <th>0</th>\n",
              "      <td>ЯСНЫЕ ЗОРИ Филе ЦБ п/ф зам.подл.1кг</td>\n",
              "      <td>Замороженное мясо птицы</td>\n",
              "    </tr>\n",
              "    <tr>\n",
              "      <th>1</th>\n",
              "      <td>Вино ALESAN BORD.11.5%кр. 0.75л</td>\n",
              "      <td>Вино тихое</td>\n",
              "    </tr>\n",
              "    <tr>\n",
              "      <th>2</th>\n",
              "      <td>Карбонат ГУРМАН ЮБИЛЕЙНЫЙ 1кг</td>\n",
              "      <td>Деликатесы</td>\n",
              "    </tr>\n",
              "    <tr>\n",
              "      <th>3</th>\n",
              "      <td>Фисташки ЛЕДНИКОВЫЙ ПЕРИОД жар.сол.250г</td>\n",
              "      <td>Орехи</td>\n",
              "    </tr>\n",
              "    <tr>\n",
              "      <th>4</th>\n",
              "      <td>Грудинка ЮЖНАЯ в/к в/с      1кг</td>\n",
              "      <td>Деликатесы</td>\n",
              "    </tr>\n",
              "  </tbody>\n",
              "</table>\n",
              "</div>"
            ],
            "text/plain": [
              "                                     descr                 category\n",
              "0      ЯСНЫЕ ЗОРИ Филе ЦБ п/ф зам.подл.1кг  Замороженное мясо птицы\n",
              "1          Вино ALESAN BORD.11.5%кр. 0.75л               Вино тихое\n",
              "2            Карбонат ГУРМАН ЮБИЛЕЙНЫЙ 1кг               Деликатесы\n",
              "3  Фисташки ЛЕДНИКОВЫЙ ПЕРИОД жар.сол.250г                    Орехи\n",
              "4          Грудинка ЮЖНАЯ в/к в/с      1кг               Деликатесы"
            ]
          },
          "metadata": {
            "tags": []
          },
          "execution_count": 90
        }
      ]
    },
    {
      "cell_type": "code",
      "metadata": {
        "id": "2ugT7Ekudovp",
        "outputId": "e3927bf2-5945-4b88-8661-41d285b37e54",
        "colab": {
          "base_uri": "https://localhost:8080/",
          "height": 202
        }
      },
      "source": [
        "transform = {i: str(indx) for indx, i in enumerate(train.category.unique())}\n",
        "def transorm_(x):\n",
        "  return transform[x]\n",
        "train['labels'] = train['category'].apply(transorm_)\n",
        "train.head()"
      ],
      "execution_count": 91,
      "outputs": [
        {
          "output_type": "execute_result",
          "data": {
            "text/html": [
              "<div>\n",
              "<style scoped>\n",
              "    .dataframe tbody tr th:only-of-type {\n",
              "        vertical-align: middle;\n",
              "    }\n",
              "\n",
              "    .dataframe tbody tr th {\n",
              "        vertical-align: top;\n",
              "    }\n",
              "\n",
              "    .dataframe thead th {\n",
              "        text-align: right;\n",
              "    }\n",
              "</style>\n",
              "<table border=\"1\" class=\"dataframe\">\n",
              "  <thead>\n",
              "    <tr style=\"text-align: right;\">\n",
              "      <th></th>\n",
              "      <th>descr</th>\n",
              "      <th>category</th>\n",
              "      <th>labels</th>\n",
              "    </tr>\n",
              "  </thead>\n",
              "  <tbody>\n",
              "    <tr>\n",
              "      <th>0</th>\n",
              "      <td>ЯСНЫЕ ЗОРИ Филе ЦБ п/ф зам.подл.1кг</td>\n",
              "      <td>Замороженное мясо птицы</td>\n",
              "      <td>0</td>\n",
              "    </tr>\n",
              "    <tr>\n",
              "      <th>1</th>\n",
              "      <td>Вино ALESAN BORD.11.5%кр. 0.75л</td>\n",
              "      <td>Вино тихое</td>\n",
              "      <td>1</td>\n",
              "    </tr>\n",
              "    <tr>\n",
              "      <th>2</th>\n",
              "      <td>Карбонат ГУРМАН ЮБИЛЕЙНЫЙ 1кг</td>\n",
              "      <td>Деликатесы</td>\n",
              "      <td>2</td>\n",
              "    </tr>\n",
              "    <tr>\n",
              "      <th>3</th>\n",
              "      <td>Фисташки ЛЕДНИКОВЫЙ ПЕРИОД жар.сол.250г</td>\n",
              "      <td>Орехи</td>\n",
              "      <td>3</td>\n",
              "    </tr>\n",
              "    <tr>\n",
              "      <th>4</th>\n",
              "      <td>Грудинка ЮЖНАЯ в/к в/с      1кг</td>\n",
              "      <td>Деликатесы</td>\n",
              "      <td>2</td>\n",
              "    </tr>\n",
              "  </tbody>\n",
              "</table>\n",
              "</div>"
            ],
            "text/plain": [
              "                                     descr                 category labels\n",
              "0      ЯСНЫЕ ЗОРИ Филе ЦБ п/ф зам.подл.1кг  Замороженное мясо птицы      0\n",
              "1          Вино ALESAN BORD.11.5%кр. 0.75л               Вино тихое      1\n",
              "2            Карбонат ГУРМАН ЮБИЛЕЙНЫЙ 1кг               Деликатесы      2\n",
              "3  Фисташки ЛЕДНИКОВЫЙ ПЕРИОД жар.сол.250г                    Орехи      3\n",
              "4          Грудинка ЮЖНАЯ в/к в/с      1кг               Деликатесы      2"
            ]
          },
          "metadata": {
            "tags": []
          },
          "execution_count": 91
        }
      ]
    },
    {
      "cell_type": "markdown",
      "metadata": {
        "id": "BqBCFfMfQvvj"
      },
      "source": [
        "# EDA"
      ]
    },
    {
      "cell_type": "markdown",
      "metadata": {
        "id": "txw62S0a0bRd"
      },
      "source": [
        "Построим гистограмму распределения классов на тренировочной выборке.  "
      ]
    },
    {
      "cell_type": "code",
      "metadata": {
        "id": "oXnzSZJ4vD6m",
        "outputId": "8150a5ba-a1e9-4883-9f56-77514d1b9237",
        "colab": {
          "base_uri": "https://localhost:8080/",
          "height": 686
        }
      },
      "source": [
        "plt.figure(figsize=(20, 13))\n",
        "to_bCh = Counter(train.category.tolist()).items()\n",
        "h = [j for i,j in to_bCh]\n",
        "lbls = [i for i,j in to_bCh]\n",
        "plt.bar(range(len(transform)),h ,tick_label = lbls)\n",
        "print(max(h), lbls[h.index(max(h))])\n",
        "plt.xticks(rotation=90, ha='right')\n",
        "plt.show()"
      ],
      "execution_count": 92,
      "outputs": [
        {
          "output_type": "stream",
          "text": [
            "8584 Колбасные изделия\n"
          ],
          "name": "stdout"
        },
        {
          "output_type": "display_data",
          "data": {
            "image/png": "[encoded data removed]",
            "text/plain": [
              "<Figure size 1440x936 with 1 Axes>"
            ]
          },
          "metadata": {
            "tags": [],
            "needs_background": "light"
          }
        }
      ]
    },
    {
      "cell_type": "code",
      "metadata": {
        "id": "txk_vPwl_4zb",
        "outputId": "ae19910c-5ac4-4deb-85a9-52f8151c00c6",
        "colab": {
          "base_uri": "https://localhost:8080/",
          "height": 202
        }
      },
      "source": [
        "train.head()"
      ],
      "execution_count": 93,
      "outputs": [
        {
          "output_type": "execute_result",
          "data": {
            "text/html": [
              "<div>\n",
              "<style scoped>\n",
              "    .dataframe tbody tr th:only-of-type {\n",
              "        vertical-align: middle;\n",
              "    }\n",
              "\n",
              "    .dataframe tbody tr th {\n",
              "        vertical-align: top;\n",
              "    }\n",
              "\n",
              "    .dataframe thead th {\n",
              "        text-align: right;\n",
              "    }\n",
              "</style>\n",
              "<table border=\"1\" class=\"dataframe\">\n",
              "  <thead>\n",
              "    <tr style=\"text-align: right;\">\n",
              "      <th></th>\n",
              "      <th>descr</th>\n",
              "      <th>category</th>\n",
              "      <th>labels</th>\n",
              "    </tr>\n",
              "  </thead>\n",
              "  <tbody>\n",
              "    <tr>\n",
              "      <th>0</th>\n",
              "      <td>ЯСНЫЕ ЗОРИ Филе ЦБ п/ф зам.подл.1кг</td>\n",
              "      <td>Замороженное мясо птицы</td>\n",
              "      <td>0</td>\n",
              "    </tr>\n",
              "    <tr>\n",
              "      <th>1</th>\n",
              "      <td>Вино ALESAN BORD.11.5%кр. 0.75л</td>\n",
              "      <td>Вино тихое</td>\n",
              "      <td>1</td>\n",
              "    </tr>\n",
              "    <tr>\n",
              "      <th>2</th>\n",
              "      <td>Карбонат ГУРМАН ЮБИЛЕЙНЫЙ 1кг</td>\n",
              "      <td>Деликатесы</td>\n",
              "      <td>2</td>\n",
              "    </tr>\n",
              "    <tr>\n",
              "      <th>3</th>\n",
              "      <td>Фисташки ЛЕДНИКОВЫЙ ПЕРИОД жар.сол.250г</td>\n",
              "      <td>Орехи</td>\n",
              "      <td>3</td>\n",
              "    </tr>\n",
              "    <tr>\n",
              "      <th>4</th>\n",
              "      <td>Грудинка ЮЖНАЯ в/к в/с      1кг</td>\n",
              "      <td>Деликатесы</td>\n",
              "      <td>2</td>\n",
              "    </tr>\n",
              "  </tbody>\n",
              "</table>\n",
              "</div>"
            ],
            "text/plain": [
              "                                     descr                 category labels\n",
              "0      ЯСНЫЕ ЗОРИ Филе ЦБ п/ф зам.подл.1кг  Замороженное мясо птицы      0\n",
              "1          Вино ALESAN BORD.11.5%кр. 0.75л               Вино тихое      1\n",
              "2            Карбонат ГУРМАН ЮБИЛЕЙНЫЙ 1кг               Деликатесы      2\n",
              "3  Фисташки ЛЕДНИКОВЫЙ ПЕРИОД жар.сол.250г                    Орехи      3\n",
              "4          Грудинка ЮЖНАЯ в/к в/с      1кг               Деликатесы      2"
            ]
          },
          "metadata": {
            "tags": []
          },
          "execution_count": 93
        }
      ]
    },
    {
      "cell_type": "code",
      "metadata": {
        "id": "tyV82huOyr3k",
        "outputId": "e7cf8bb7-6b4d-42bb-fe17-4c4abbeb3b31",
        "colab": {
          "base_uri": "https://localhost:8080/"
        }
      },
      "source": [
        "to_bCh = sorted(to_bCh, key=lambda x: x[1], reverse = True)\n",
        "print('Категории, содержащие наименьшим количество товаров в тренировочной выборке:')\n",
        "for name, value in list((to_bCh))[:129:-1]:\n",
        "  print( name, ':', value) "
      ],
      "execution_count": 94,
      "outputs": [
        {
          "output_type": "stream",
          "text": [
            "Категории, содержащие наименьшим количество товаров в тренировочной выборке:\n",
            "Сухие компоненты и смеси (Fresh) : 2\n",
            "Вина плодовые и прочие : 3\n",
            "Копчености из других видов мяса : 4\n",
            "Копчености из говядины : 5\n",
            "Безалкогольное вино : 6\n",
            "Горчица, хрен : 9\n",
            "Витамины, добавки для животных : 12\n"
          ],
          "name": "stdout"
        }
      ]
    },
    {
      "cell_type": "code",
      "metadata": {
        "id": "QX48nLdH_we9",
        "outputId": "289e927a-bbe3-4b0c-c701-0528d11ac263",
        "colab": {
          "base_uri": "https://localhost:8080/",
          "height": 202
        }
      },
      "source": [
        "train.head()"
      ],
      "execution_count": 95,
      "outputs": [
        {
          "output_type": "execute_result",
          "data": {
            "text/html": [
              "<div>\n",
              "<style scoped>\n",
              "    .dataframe tbody tr th:only-of-type {\n",
              "        vertical-align: middle;\n",
              "    }\n",
              "\n",
              "    .dataframe tbody tr th {\n",
              "        vertical-align: top;\n",
              "    }\n",
              "\n",
              "    .dataframe thead th {\n",
              "        text-align: right;\n",
              "    }\n",
              "</style>\n",
              "<table border=\"1\" class=\"dataframe\">\n",
              "  <thead>\n",
              "    <tr style=\"text-align: right;\">\n",
              "      <th></th>\n",
              "      <th>descr</th>\n",
              "      <th>category</th>\n",
              "      <th>labels</th>\n",
              "    </tr>\n",
              "  </thead>\n",
              "  <tbody>\n",
              "    <tr>\n",
              "      <th>0</th>\n",
              "      <td>ЯСНЫЕ ЗОРИ Филе ЦБ п/ф зам.подл.1кг</td>\n",
              "      <td>Замороженное мясо птицы</td>\n",
              "      <td>0</td>\n",
              "    </tr>\n",
              "    <tr>\n",
              "      <th>1</th>\n",
              "      <td>Вино ALESAN BORD.11.5%кр. 0.75л</td>\n",
              "      <td>Вино тихое</td>\n",
              "      <td>1</td>\n",
              "    </tr>\n",
              "    <tr>\n",
              "      <th>2</th>\n",
              "      <td>Карбонат ГУРМАН ЮБИЛЕЙНЫЙ 1кг</td>\n",
              "      <td>Деликатесы</td>\n",
              "      <td>2</td>\n",
              "    </tr>\n",
              "    <tr>\n",
              "      <th>3</th>\n",
              "      <td>Фисташки ЛЕДНИКОВЫЙ ПЕРИОД жар.сол.250г</td>\n",
              "      <td>Орехи</td>\n",
              "      <td>3</td>\n",
              "    </tr>\n",
              "    <tr>\n",
              "      <th>4</th>\n",
              "      <td>Грудинка ЮЖНАЯ в/к в/с      1кг</td>\n",
              "      <td>Деликатесы</td>\n",
              "      <td>2</td>\n",
              "    </tr>\n",
              "  </tbody>\n",
              "</table>\n",
              "</div>"
            ],
            "text/plain": [
              "                                     descr                 category labels\n",
              "0      ЯСНЫЕ ЗОРИ Филе ЦБ п/ф зам.подл.1кг  Замороженное мясо птицы      0\n",
              "1          Вино ALESAN BORD.11.5%кр. 0.75л               Вино тихое      1\n",
              "2            Карбонат ГУРМАН ЮБИЛЕЙНЫЙ 1кг               Деликатесы      2\n",
              "3  Фисташки ЛЕДНИКОВЫЙ ПЕРИОД жар.сол.250г                    Орехи      3\n",
              "4          Грудинка ЮЖНАЯ в/к в/с      1кг               Деликатесы      2"
            ]
          },
          "metadata": {
            "tags": []
          },
          "execution_count": 95
        }
      ]
    },
    {
      "cell_type": "code",
      "metadata": {
        "id": "G74caOvG1c2z",
        "outputId": "e0d95593-42e3-438c-f586-75cb5bb9f7f7",
        "colab": {
          "base_uri": "https://localhost:8080/"
        }
      },
      "source": [
        "sum_values = 0\n",
        "for name, value in list((to_bCh))[:129:-1]:\n",
        "  sum_values+=value\n",
        "print('Процентное соотношение товаров редких категории относительно тернировачной выборки - {0:0.2f}'.format(sum_values/train.shape[0]*100))"
      ],
      "execution_count": 96,
      "outputs": [
        {
          "output_type": "stream",
          "text": [
            "Процентное соотношение товаров редких категории относительно тернировачной выборки - 0.04\n"
          ],
          "name": "stdout"
        }
      ]
    },
    {
      "cell_type": "markdown",
      "metadata": {
        "id": "kMBH-KEKzm16"
      },
      "source": [
        "В целом, этими классами можно перенебречь, так как в них содержится менее 0.03% от общего количества товаров.  Кроме того, в дальнейшем, для оценки результатов будут использваться взвешенные метрики, что позволит невелировать ошибки(если таковые будут), касающиеся этих категорий."
      ]
    },
    {
      "cell_type": "code",
      "metadata": {
        "id": "yxVlZTY6_7uN",
        "outputId": "63c42195-dc04-46f6-bdac-0cb66aaf3269",
        "colab": {
          "base_uri": "https://localhost:8080/",
          "height": 202
        }
      },
      "source": [
        "train.head()"
      ],
      "execution_count": 97,
      "outputs": [
        {
          "output_type": "execute_result",
          "data": {
            "text/html": [
              "<div>\n",
              "<style scoped>\n",
              "    .dataframe tbody tr th:only-of-type {\n",
              "        vertical-align: middle;\n",
              "    }\n",
              "\n",
              "    .dataframe tbody tr th {\n",
              "        vertical-align: top;\n",
              "    }\n",
              "\n",
              "    .dataframe thead th {\n",
              "        text-align: right;\n",
              "    }\n",
              "</style>\n",
              "<table border=\"1\" class=\"dataframe\">\n",
              "  <thead>\n",
              "    <tr style=\"text-align: right;\">\n",
              "      <th></th>\n",
              "      <th>descr</th>\n",
              "      <th>category</th>\n",
              "      <th>labels</th>\n",
              "    </tr>\n",
              "  </thead>\n",
              "  <tbody>\n",
              "    <tr>\n",
              "      <th>0</th>\n",
              "      <td>ЯСНЫЕ ЗОРИ Филе ЦБ п/ф зам.подл.1кг</td>\n",
              "      <td>Замороженное мясо птицы</td>\n",
              "      <td>0</td>\n",
              "    </tr>\n",
              "    <tr>\n",
              "      <th>1</th>\n",
              "      <td>Вино ALESAN BORD.11.5%кр. 0.75л</td>\n",
              "      <td>Вино тихое</td>\n",
              "      <td>1</td>\n",
              "    </tr>\n",
              "    <tr>\n",
              "      <th>2</th>\n",
              "      <td>Карбонат ГУРМАН ЮБИЛЕЙНЫЙ 1кг</td>\n",
              "      <td>Деликатесы</td>\n",
              "      <td>2</td>\n",
              "    </tr>\n",
              "    <tr>\n",
              "      <th>3</th>\n",
              "      <td>Фисташки ЛЕДНИКОВЫЙ ПЕРИОД жар.сол.250г</td>\n",
              "      <td>Орехи</td>\n",
              "      <td>3</td>\n",
              "    </tr>\n",
              "    <tr>\n",
              "      <th>4</th>\n",
              "      <td>Грудинка ЮЖНАЯ в/к в/с      1кг</td>\n",
              "      <td>Деликатесы</td>\n",
              "      <td>2</td>\n",
              "    </tr>\n",
              "  </tbody>\n",
              "</table>\n",
              "</div>"
            ],
            "text/plain": [
              "                                     descr                 category labels\n",
              "0      ЯСНЫЕ ЗОРИ Филе ЦБ п/ф зам.подл.1кг  Замороженное мясо птицы      0\n",
              "1          Вино ALESAN BORD.11.5%кр. 0.75л               Вино тихое      1\n",
              "2            Карбонат ГУРМАН ЮБИЛЕЙНЫЙ 1кг               Деликатесы      2\n",
              "3  Фисташки ЛЕДНИКОВЫЙ ПЕРИОД жар.сол.250г                    Орехи      3\n",
              "4          Грудинка ЮЖНАЯ в/к в/с      1кг               Деликатесы      2"
            ]
          },
          "metadata": {
            "tags": []
          },
          "execution_count": 97
        }
      ]
    },
    {
      "cell_type": "markdown",
      "metadata": {
        "id": "JtkShc4P3Ab8"
      },
      "source": [
        "Проведем предобработку названий"
      ]
    },
    {
      "cell_type": "code",
      "metadata": {
        "id": "1Ot6n8d-lNpK",
        "outputId": "33d86827-6ae3-4a5a-aee0-6b206e498259",
        "colab": {
          "base_uri": "https://localhost:8080/",
          "height": 1000
        }
      },
      "source": [
        "def clear(x):\n",
        "  #x = ' '.join([i for i in re.findall('[^a-zA-Z]+', str(x).lower())])\n",
        "  #x = re.sub('[\\.%]',' ', x)\n",
        "  x = re.sub('[0-9]+','', str(x).lower()) # Числовые значения хоть и косвенно несут информацию о категории продукта, однако они не стандартизированы и в при таких объемах могут создавать шум\n",
        "  x = re.sub('[\\.\\-\\+,\"/%№]',' ', x) # заменим занки препинания и спец символы на пробелы\n",
        "  x = re.sub('\\s+',' ', x) # \n",
        "  \n",
        "  return x\n",
        "\n",
        "train['cl_descr'] = train.descr.apply(clear)\n",
        "train.tail(40)"
      ],
      "execution_count": 98,
      "outputs": [
        {
          "output_type": "execute_result",
          "data": {
            "text/html": [
              "<div>\n",
              "<style scoped>\n",
              "    .dataframe tbody tr th:only-of-type {\n",
              "        vertical-align: middle;\n",
              "    }\n",
              "\n",
              "    .dataframe tbody tr th {\n",
              "        vertical-align: top;\n",
              "    }\n",
              "\n",
              "    .dataframe thead th {\n",
              "        text-align: right;\n",
              "    }\n",
              "</style>\n",
              "<table border=\"1\" class=\"dataframe\">\n",
              "  <thead>\n",
              "    <tr style=\"text-align: right;\">\n",
              "      <th></th>\n",
              "      <th>descr</th>\n",
              "      <th>category</th>\n",
              "      <th>labels</th>\n",
              "      <th>cl_descr</th>\n",
              "    </tr>\n",
              "  </thead>\n",
              "  <tbody>\n",
              "    <tr>\n",
              "      <th>99960</th>\n",
              "      <td>JOHN FRIEDA Крем-маска УКРЕПЛЯЮЩАЯ 150мл</td>\n",
              "      <td>Средства для волос</td>\n",
              "      <td>40</td>\n",
              "      <td>john frieda крем маска укрепляющая мл</td>\n",
              "    </tr>\n",
              "    <tr>\n",
              "      <th>99961</th>\n",
              "      <td>Филе трески NN б/к в/у 500г</td>\n",
              "      <td>Рыба замороженная</td>\n",
              "      <td>81</td>\n",
              "      <td>филе трески nn б к в у г</td>\n",
              "    </tr>\n",
              "    <tr>\n",
              "      <th>99962</th>\n",
              "      <td>Котлеты Воронеж.свино-говяж.Продсерв.1кг</td>\n",
              "      <td>Замороженные полуфабрикаты</td>\n",
              "      <td>72</td>\n",
              "      <td>котлеты воронеж свино говяж продсерв кг</td>\n",
              "    </tr>\n",
              "    <tr>\n",
              "      <th>99963</th>\n",
              "      <td>Мусс Валио творожный с черникой 4% 110г</td>\n",
              "      <td>Десерты</td>\n",
              "      <td>62</td>\n",
              "      <td>мусс валио творожный с черникой г</td>\n",
              "    </tr>\n",
              "    <tr>\n",
              "      <th>99964</th>\n",
              "      <td>Конфеты\"Джели\"вес</td>\n",
              "      <td>Конфеты</td>\n",
              "      <td>7</td>\n",
              "      <td>конфеты джели вес</td>\n",
              "    </tr>\n",
              "    <tr>\n",
              "      <th>99965</th>\n",
              "      <td>MUTTI Соус SUGO POMOD.E BASILIC.том.280г</td>\n",
              "      <td>Соусы</td>\n",
              "      <td>70</td>\n",
              "      <td>mutti соус sugo pomod e basilic том г</td>\n",
              "    </tr>\n",
              "    <tr>\n",
              "      <th>99966</th>\n",
              "      <td>GATSBY Лосьон д/лица увл.муж.170мл</td>\n",
              "      <td>Крема и товары для красоты</td>\n",
              "      <td>8</td>\n",
              "      <td>gatsby лосьон д лица увл муж мл</td>\n",
              "    </tr>\n",
              "    <tr>\n",
              "      <th>99967</th>\n",
              "      <td>ЖЕЛЕЗНОГОР.Круассанчик с ананас.нач.70г</td>\n",
              "      <td>Кексы, рулеты</td>\n",
              "      <td>63</td>\n",
              "      <td>железногор круассанчик с ананас нач г</td>\n",
              "    </tr>\n",
              "    <tr>\n",
              "      <th>99968</th>\n",
              "      <td>ДМИТРОГОРСКИЙ Колбаса ЧЕСНОЧНАЯ п/к 1кг</td>\n",
              "      <td>Колбасные изделия</td>\n",
              "      <td>25</td>\n",
              "      <td>дмитрогорский колбаса чесночная п к кг</td>\n",
              "    </tr>\n",
              "    <tr>\n",
              "      <th>99969</th>\n",
              "      <td>Сардина Унда в т/с с ключом ж/б 160г</td>\n",
              "      <td>Пресервы</td>\n",
              "      <td>58</td>\n",
              "      <td>сардина унда в т с с ключом ж б г</td>\n",
              "    </tr>\n",
              "    <tr>\n",
              "      <th>99970</th>\n",
              "      <td>Тендер Кальмар натуральный 230-250г</td>\n",
              "      <td>Консервы рыбные</td>\n",
              "      <td>11</td>\n",
              "      <td>тендер кальмар натуральный г</td>\n",
              "    </tr>\n",
              "    <tr>\n",
              "      <th>99971</th>\n",
              "      <td>Рулет ГЛАЗИРОВАННЫЙ в упак.600г</td>\n",
              "      <td>Кексы, рулеты</td>\n",
              "      <td>63</td>\n",
              "      <td>рулет глазированный в упак г</td>\n",
              "    </tr>\n",
              "    <tr>\n",
              "      <th>99972</th>\n",
              "      <td>Р/пр Икра Деликатесная 112г кра</td>\n",
              "      <td>Икра</td>\n",
              "      <td>109</td>\n",
              "      <td>р пр икра деликатесная г кра</td>\n",
              "    </tr>\n",
              "    <tr>\n",
              "      <th>99973</th>\n",
              "      <td>GUL.Палтус филе с кож.охлаж.1кг</td>\n",
              "      <td>Рыба охлажденная</td>\n",
              "      <td>10</td>\n",
              "      <td>gul палтус филе с кож охлаж кг</td>\n",
              "    </tr>\n",
              "    <tr>\n",
              "      <th>99974</th>\n",
              "      <td>Пирожное ПЕСОЧНОЕ КОЛЬЦО с арахисом 80г</td>\n",
              "      <td>Пироги, изделия сдобные</td>\n",
              "      <td>16</td>\n",
              "      <td>пирожное песочное кольцо с арахисом г</td>\n",
              "    </tr>\n",
              "    <tr>\n",
              "      <th>99975</th>\n",
              "      <td>ТЕНДЕР Крупа ГРЕЧНЕВАЯ ядрица 900г</td>\n",
              "      <td>Крупы и зерновые</td>\n",
              "      <td>39</td>\n",
              "      <td>тендер крупа гречневая ядрица г</td>\n",
              "    </tr>\n",
              "    <tr>\n",
              "      <th>99976</th>\n",
              "      <td>MAKFA Макароны ЛАПША длинная 500г</td>\n",
              "      <td>Макаронные изделия</td>\n",
              "      <td>52</td>\n",
              "      <td>makfa макароны лапша длинная г</td>\n",
              "    </tr>\n",
              "    <tr>\n",
              "      <th>99977</th>\n",
              "      <td>E Кондиционер ЦВЕТОЧ.ФАНТАЗИЯ д/белья 1л</td>\n",
              "      <td>Средства для ухода за бельем и одеждой</td>\n",
              "      <td>76</td>\n",
              "      <td>e кондиционер цветоч фантазия д белья л</td>\n",
              "    </tr>\n",
              "    <tr>\n",
              "      <th>99978</th>\n",
              "      <td>HEINZ Кашка рисовая с молоком 250г</td>\n",
              "      <td>Детские сухие смеси</td>\n",
              "      <td>43</td>\n",
              "      <td>heinz кашка рисовая с молоком г</td>\n",
              "    </tr>\n",
              "    <tr>\n",
              "      <th>99979</th>\n",
              "      <td>ROSHEN Конфеты СТАРИК ХОТТАБЫЧ 250г</td>\n",
              "      <td>Конфеты</td>\n",
              "      <td>7</td>\n",
              "      <td>roshen конфеты старик хоттабыч г</td>\n",
              "    </tr>\n",
              "    <tr>\n",
              "      <th>99980</th>\n",
              "      <td>Вермут Тости Вермут Экстра Драй бел.сух</td>\n",
              "      <td>Вермуты</td>\n",
              "      <td>131</td>\n",
              "      <td>вермут тости вермут экстра драй бел сух</td>\n",
              "    </tr>\n",
              "    <tr>\n",
              "      <th>99981</th>\n",
              "      <td>КЕДР.БАЛЬЗ.З/п.профилактич.100г</td>\n",
              "      <td>Гигиена рта</td>\n",
              "      <td>73</td>\n",
              "      <td>кедр бальз з п профилактич г</td>\n",
              "    </tr>\n",
              "    <tr>\n",
              "      <th>99982</th>\n",
              "      <td>GREIS.Рулет ЛЮБИТЕЛЬСК.в/к  1кг</td>\n",
              "      <td>Деликатесы</td>\n",
              "      <td>2</td>\n",
              "      <td>greis рулет любительск в к кг</td>\n",
              "    </tr>\n",
              "    <tr>\n",
              "      <th>99983</th>\n",
              "      <td>Батон ОТРУБНОЙ в нарезке 300г</td>\n",
              "      <td>Хлеб прочий</td>\n",
              "      <td>14</td>\n",
              "      <td>батон отрубной в нарезке г</td>\n",
              "    </tr>\n",
              "    <tr>\n",
              "      <th>99984</th>\n",
              "      <td>Колбаса Коньячный Серв.в/к Ор.Нив.1кг</td>\n",
              "      <td>Колбасные изделия</td>\n",
              "      <td>25</td>\n",
              "      <td>колбаса коньячный серв в к ор нив кг</td>\n",
              "    </tr>\n",
              "    <tr>\n",
              "      <th>99985</th>\n",
              "      <td>ЗЕРНИЦА Вафли с нач.со вкус.лес.ор.200г</td>\n",
              "      <td>Вафли</td>\n",
              "      <td>80</td>\n",
              "      <td>зерница вафли с нач со вкус лес ор г</td>\n",
              "    </tr>\n",
              "    <tr>\n",
              "      <th>99986</th>\n",
              "      <td>KITC.SOAP Мыло АПЕЛЬС.Е.С 500мл</td>\n",
              "      <td>Средства для душа</td>\n",
              "      <td>65</td>\n",
              "      <td>kitc soap мыло апельс е с мл</td>\n",
              "    </tr>\n",
              "    <tr>\n",
              "      <th>99987</th>\n",
              "      <td>МАРК.ПЕРЕКР.Морож.ПЛОМБ.крем-бр.15% 220г</td>\n",
              "      <td>Мороженое</td>\n",
              "      <td>45</td>\n",
              "      <td>марк перекр морож пломб крем бр г</td>\n",
              "    </tr>\n",
              "    <tr>\n",
              "      <th>99988</th>\n",
              "      <td>ЗДОР.КОР.Коктейль мол.клуб.паст.2% 750г</td>\n",
              "      <td>Молоко</td>\n",
              "      <td>46</td>\n",
              "      <td>здор кор коктейль мол клуб паст г</td>\n",
              "    </tr>\n",
              "    <tr>\n",
              "      <th>99989</th>\n",
              "      <td>ДОМ.КУХ.Травы Прованские    20г</td>\n",
              "      <td>Специи</td>\n",
              "      <td>26</td>\n",
              "      <td>дом кух травы прованские г</td>\n",
              "    </tr>\n",
              "    <tr>\n",
              "      <th>99990</th>\n",
              "      <td>ТАРИ Пуста-Пфанне (с)</td>\n",
              "      <td>Концентраты</td>\n",
              "      <td>44</td>\n",
              "      <td>тари пуста пфанне (с)</td>\n",
              "    </tr>\n",
              "    <tr>\n",
              "      <th>99991</th>\n",
              "      <td>CHAMPION Абрикос сушеный   340г</td>\n",
              "      <td>Сухофрукты</td>\n",
              "      <td>50</td>\n",
              "      <td>champion абрикос сушеный г</td>\n",
              "    </tr>\n",
              "    <tr>\n",
              "      <th>99992</th>\n",
              "      <td>SKIPPER Сок ЯБЛОЧНЫЙ 100% т/п 1л</td>\n",
              "      <td>Соки, нектары</td>\n",
              "      <td>59</td>\n",
              "      <td>skipper сок яблочный т п л</td>\n",
              "    </tr>\n",
              "    <tr>\n",
              "      <th>99993</th>\n",
              "      <td>МОЙВА по-исландски пл/б.   400г</td>\n",
              "      <td>Пресервы</td>\n",
              "      <td>58</td>\n",
              "      <td>мойва по исландски пл б г</td>\n",
              "    </tr>\n",
              "    <tr>\n",
              "      <th>99994</th>\n",
              "      <td>FREITAG Ассорти печ./вафли 500г</td>\n",
              "      <td>Вафли</td>\n",
              "      <td>80</td>\n",
              "      <td>freitag ассорти печ вафли г</td>\n",
              "    </tr>\n",
              "    <tr>\n",
              "      <th>99995</th>\n",
              "      <td>ОСКО Печенье ВЕНЗЕЛЬ сдобное 190г</td>\n",
              "      <td>Печенье, крекер</td>\n",
              "      <td>34</td>\n",
              "      <td>оско печенье вензель сдобное г</td>\n",
              "    </tr>\n",
              "    <tr>\n",
              "      <th>99996</th>\n",
              "      <td>Грудка индейки от разделки 1кг</td>\n",
              "      <td>Птица и П/Ф охлажденые</td>\n",
              "      <td>53</td>\n",
              "      <td>грудка индейки от разделки кг</td>\n",
              "    </tr>\n",
              "    <tr>\n",
              "      <th>99997</th>\n",
              "      <td>НФ Перчатки Elegance 2 пары + 1</td>\n",
              "      <td>Хозяйственные принадлежности</td>\n",
              "      <td>19</td>\n",
              "      <td>нф перчатки elegance пары</td>\n",
              "    </tr>\n",
              "    <tr>\n",
              "      <th>99998</th>\n",
              "      <td>Вино TOR.GR.МЕДВ.КР.кр.п/сл.11-12% 0.75л</td>\n",
              "      <td>Вино тихое</td>\n",
              "      <td>1</td>\n",
              "      <td>вино tor gr медв кр кр п сл л</td>\n",
              "    </tr>\n",
              "    <tr>\n",
              "      <th>99999</th>\n",
              "      <td>Вино ДОМ ЯГО МАЛЬБЕК кр.сух.12,5% 1.0л</td>\n",
              "      <td>Вино тихое</td>\n",
              "      <td>1</td>\n",
              "      <td>вино дом яго мальбек кр сух л</td>\n",
              "    </tr>\n",
              "  </tbody>\n",
              "</table>\n",
              "</div>"
            ],
            "text/plain": [
              "                                          descr  ...                                 cl_descr\n",
              "99960  JOHN FRIEDA Крем-маска УКРЕПЛЯЮЩАЯ 150мл  ...    john frieda крем маска укрепляющая мл\n",
              "99961               Филе трески NN б/к в/у 500г  ...                 филе трески nn б к в у г\n",
              "99962  Котлеты Воронеж.свино-говяж.Продсерв.1кг  ...  котлеты воронеж свино говяж продсерв кг\n",
              "99963   Мусс Валио творожный с черникой 4% 110г  ...        мусс валио творожный с черникой г\n",
              "99964                         Конфеты\"Джели\"вес  ...                        конфеты джели вес\n",
              "99965  MUTTI Соус SUGO POMOD.E BASILIC.том.280г  ...    mutti соус sugo pomod e basilic том г\n",
              "99966        GATSBY Лосьон д/лица увл.муж.170мл  ...          gatsby лосьон д лица увл муж мл\n",
              "99967   ЖЕЛЕЗНОГОР.Круассанчик с ананас.нач.70г  ...    железногор круассанчик с ананас нач г\n",
              "99968   ДМИТРОГОРСКИЙ Колбаса ЧЕСНОЧНАЯ п/к 1кг  ...   дмитрогорский колбаса чесночная п к кг\n",
              "99969      Сардина Унда в т/с с ключом ж/б 160г  ...        сардина унда в т с с ключом ж б г\n",
              "99970       Тендер Кальмар натуральный 230-250г  ...             тендер кальмар натуральный г\n",
              "99971           Рулет ГЛАЗИРОВАННЫЙ в упак.600г  ...             рулет глазированный в упак г\n",
              "99972           Р/пр Икра Деликатесная 112г кра  ...             р пр икра деликатесная г кра\n",
              "99973           GUL.Палтус филе с кож.охлаж.1кг  ...           gul палтус филе с кож охлаж кг\n",
              "99974   Пирожное ПЕСОЧНОЕ КОЛЬЦО с арахисом 80г  ...    пирожное песочное кольцо с арахисом г\n",
              "99975        ТЕНДЕР Крупа ГРЕЧНЕВАЯ ядрица 900г  ...          тендер крупа гречневая ядрица г\n",
              "99976         MAKFA Макароны ЛАПША длинная 500г  ...           makfa макароны лапша длинная г\n",
              "99977  E Кондиционер ЦВЕТОЧ.ФАНТАЗИЯ д/белья 1л  ...  e кондиционер цветоч фантазия д белья л\n",
              "99978        HEINZ Кашка рисовая с молоком 250г  ...          heinz кашка рисовая с молоком г\n",
              "99979       ROSHEN Конфеты СТАРИК ХОТТАБЫЧ 250г  ...         roshen конфеты старик хоттабыч г\n",
              "99980   Вермут Тости Вермут Экстра Драй бел.сух  ...  вермут тости вермут экстра драй бел сух\n",
              "99981           КЕДР.БАЛЬЗ.З/п.профилактич.100г  ...             кедр бальз з п профилактич г\n",
              "99982           GREIS.Рулет ЛЮБИТЕЛЬСК.в/к  1кг  ...            greis рулет любительск в к кг\n",
              "99983             Батон ОТРУБНОЙ в нарезке 300г  ...               батон отрубной в нарезке г\n",
              "99984     Колбаса Коньячный Серв.в/к Ор.Нив.1кг  ...     колбаса коньячный серв в к ор нив кг\n",
              "99985   ЗЕРНИЦА Вафли с нач.со вкус.лес.ор.200г  ...     зерница вафли с нач со вкус лес ор г\n",
              "99986           KITC.SOAP Мыло АПЕЛЬС.Е.С 500мл  ...             kitc soap мыло апельс е с мл\n",
              "99987  МАРК.ПЕРЕКР.Морож.ПЛОМБ.крем-бр.15% 220г  ...        марк перекр морож пломб крем бр г\n",
              "99988   ЗДОР.КОР.Коктейль мол.клуб.паст.2% 750г  ...        здор кор коктейль мол клуб паст г\n",
              "99989           ДОМ.КУХ.Травы Прованские    20г  ...               дом кух травы прованские г\n",
              "99990                     ТАРИ Пуста-Пфанне (с)  ...                    тари пуста пфанне (с)\n",
              "99991           CHAMPION Абрикос сушеный   340г  ...               champion абрикос сушеный г\n",
              "99992          SKIPPER Сок ЯБЛОЧНЫЙ 100% т/п 1л  ...               skipper сок яблочный т п л\n",
              "99993           МОЙВА по-исландски пл/б.   400г  ...                мойва по исландски пл б г\n",
              "99994           FREITAG Ассорти печ./вафли 500г  ...              freitag ассорти печ вафли г\n",
              "99995         ОСКО Печенье ВЕНЗЕЛЬ сдобное 190г  ...           оско печенье вензель сдобное г\n",
              "99996            Грудка индейки от разделки 1кг  ...            грудка индейки от разделки кг\n",
              "99997           НФ Перчатки Elegance 2 пары + 1  ...               нф перчатки elegance пары \n",
              "99998  Вино TOR.GR.МЕДВ.КР.кр.п/сл.11-12% 0.75л  ...            вино tor gr медв кр кр п сл л\n",
              "99999    Вино ДОМ ЯГО МАЛЬБЕК кр.сух.12,5% 1.0л  ...            вино дом яго мальбек кр сух л\n",
              "\n",
              "[40 rows x 4 columns]"
            ]
          },
          "metadata": {
            "tags": []
          },
          "execution_count": 98
        }
      ]
    },
    {
      "cell_type": "code",
      "metadata": {
        "id": "Pj7dBCc0iqry",
        "outputId": "d6fd02f4-08f6-4d02-bda7-e09d46708623",
        "colab": {
          "base_uri": "https://localhost:8080/"
        }
      },
      "source": [
        "len(train.labels.unique())"
      ],
      "execution_count": 99,
      "outputs": [
        {
          "output_type": "execute_result",
          "data": {
            "text/plain": [
              "137"
            ]
          },
          "metadata": {
            "tags": []
          },
          "execution_count": 99
        }
      ]
    },
    {
      "cell_type": "markdown",
      "metadata": {
        "id": "iRCwP_Jl32Hl"
      },
      "source": [
        "Построим гистограмму распределения длин слов. Она позволит нам примерно оценить, сколько информации мы можем потерять если почистим названя продуктов от слов длины 2 и менее. "
      ]
    },
    {
      "cell_type": "code",
      "metadata": {
        "id": "K3YXb5jBQ1h8",
        "outputId": "8a8e46f0-1c7a-495b-a945-e182f8148d29",
        "colab": {
          "base_uri": "https://localhost:8080/",
          "height": 298
        }
      },
      "source": [
        "words = [word for text in train.cl_descr.tolist() for word in text.split(' ')]\n",
        "m_f  = [w for w, fr in Counter(words).most_common(15)]\n",
        "len_w_dist = [len(word) for word in words]\n",
        "#print([len_word for len_word, fr in Counter(len_w_dist).items()])\n",
        "a = [fr for len_word, fr in Counter(len_w_dist).items()]\n",
        "print(a[:10])\n",
        "plt.bar([len_word for len_word, fr in Counter(len_w_dist).items()], [fr for len_word, fr in Counter(len_w_dist).items()])\n",
        "plt.title('Distr of word len')\n",
        "plt.show()"
      ],
      "execution_count": 100,
      "outputs": [
        {
          "output_type": "stream",
          "text": [
            "[67433, 83843, 72393, 133311, 90353, 52176, 30334, 14828, 8605, 49547]\n"
          ],
          "name": "stdout"
        },
        {
          "output_type": "display_data",
          "data": {
            "image/png": "[encoded data removed]",
            "text/plain": [
              "<Figure size 432x288 with 1 Axes>"
            ]
          },
          "metadata": {
            "tags": [],
            "needs_background": "light"
          }
        }
      ]
    },
    {
      "cell_type": "markdown",
      "metadata": {
        "id": "fttUF4wG4OvK"
      },
      "source": [
        "Из гистограммы следует, что встречамость слов длиной 2 и менее в нашем датасете весьма велика, поэтому пренебрегать этой информацией не стоит. Скорее всего даже подходящие ко многим категория марекеры \"кг\", \"мл\" и т.д. могут иметь важное значение при классификации."
      ]
    },
    {
      "cell_type": "markdown",
      "metadata": {
        "id": "MjEz6v7C60_Z"
      },
      "source": [
        "Нужна ли нормализация?"
      ]
    },
    {
      "cell_type": "code",
      "metadata": {
        "id": "gLQy0h3T60Ou",
        "outputId": "98751825-0bc9-4eda-8ba6-196d2bfe8093",
        "colab": {
          "base_uri": "https://localhost:8080/"
        }
      },
      "source": [
        "unique_words = set(words)\n",
        "len(unique_words)"
      ],
      "execution_count": 101,
      "outputs": [
        {
          "output_type": "execute_result",
          "data": {
            "text/plain": [
              "42913"
            ]
          },
          "metadata": {
            "tags": []
          },
          "execution_count": 101
        }
      ]
    },
    {
      "cell_type": "code",
      "metadata": {
        "id": "wgp3BRyu9XMm",
        "outputId": "e5614bba-54b1-4e5d-fda3-1fb6fe859c40",
        "colab": {
          "base_uri": "https://localhost:8080/"
        }
      },
      "source": [
        "!pip install pymorphy2"
      ],
      "execution_count": 102,
      "outputs": [
        {
          "output_type": "stream",
          "text": [
            "Requirement already satisfied: pymorphy2 in /usr/local/lib/python3.6/dist-packages (0.9.1)\n",
            "Requirement already satisfied: dawg-python>=0.7.1 in /usr/local/lib/python3.6/dist-packages (from pymorphy2) (0.7.2)\n",
            "Requirement already satisfied: docopt>=0.6 in /usr/local/lib/python3.6/dist-packages (from pymorphy2) (0.6.2)\n",
            "Requirement already satisfied: pymorphy2-dicts-ru<3.0,>=2.4 in /usr/local/lib/python3.6/dist-packages (from pymorphy2) (2.4.417127.4579844)\n"
          ],
          "name": "stdout"
        }
      ]
    },
    {
      "cell_type": "code",
      "metadata": {
        "id": "gxQsFzOj67dO",
        "outputId": "e52a25b3-eb23-4aec-bc33-e941509c81e0",
        "colab": {
          "base_uri": "https://localhost:8080/"
        }
      },
      "source": [
        "import pymorphy2\n",
        "from tqdm import tqdm\n",
        "morph = pymorphy2.MorphAnalyzer()\n",
        "lemmas = []\n",
        "for word in tqdm(set(words)):\n",
        "  lemmas.append(morph.parse(word)[0].normal_form)"
      ],
      "execution_count": 103,
      "outputs": [
        {
          "output_type": "stream",
          "text": [
            "100%|██████████| 42913/42913 [00:08<00:00, 4848.59it/s]\n"
          ],
          "name": "stderr"
        }
      ]
    },
    {
      "cell_type": "code",
      "metadata": {
        "id": "M0zVHO1q-wR_",
        "outputId": "fb58d88e-837d-4c73-941d-21e14ab21d74",
        "colab": {
          "base_uri": "https://localhost:8080/"
        }
      },
      "source": [
        "unique_lemmas = set(lemmas)\n",
        "len(unique_lemmas)"
      ],
      "execution_count": 104,
      "outputs": [
        {
          "output_type": "execute_result",
          "data": {
            "text/plain": [
              "37260"
            ]
          },
          "metadata": {
            "tags": []
          },
          "execution_count": 104
        }
      ]
    },
    {
      "cell_type": "markdown",
      "metadata": {
        "id": "bFODcqqLBjPd"
      },
      "source": [
        "Нормализация позволяет уменьшить вокабуляр на 10000 единиц. Однако, логично предположить, что существительные в названии продуктов, в большинстве своем, итак находятся в именительном падеже, прилагательные варьируются, а глаголы практически не используются. Проверим "
      ]
    },
    {
      "cell_type": "code",
      "metadata": {
        "id": "Ger2rU_f_rK0",
        "outputId": "5b45c97a-5ac0-48f2-ed1d-74fe8de3168e",
        "colab": {
          "base_uri": "https://localhost:8080/"
        }
      },
      "source": [
        "print('Процентное содержание лемм в исходном словаре : {0:.2f} %'.format(len(unique_words & unique_lemmas) / len(unique_words) * 100))"
      ],
      "execution_count": 105,
      "outputs": [
        {
          "output_type": "stream",
          "text": [
            "Процентное содержание лемм в исходном словаре : 68.11 %\n"
          ],
          "name": "stdout"
        }
      ]
    },
    {
      "cell_type": "code",
      "metadata": {
        "id": "znhBOZwu_b0H",
        "outputId": "0306cc1e-82b0-4685-a30b-5a402ef076ab",
        "colab": {
          "base_uri": "https://localhost:8080/"
        }
      },
      "source": [
        "list(unique_words & unique_lemmas)[:100]"
      ],
      "execution_count": 106,
      "outputs": [
        {
          "output_type": "execute_result",
          "data": {
            "text/plain": [
              "['',\n",
              " 'smokey',\n",
              " 'гулибер',\n",
              " 'nissan',\n",
              " 'новокуйбыш',\n",
              " 'харрис',\n",
              " 'лэкотерия',\n",
              " 'уничт',\n",
              " 'взрывной',\n",
              " 'meur',\n",
              " 'вум',\n",
              " 'сммл',\n",
              " 'экстракт',\n",
              " 'uniekaas',\n",
              " 'негаз',\n",
              " 'krone',\n",
              " 'вацлавский',\n",
              " 'ponola',\n",
              " 'zubr',\n",
              " 'шоколt',\n",
              " 'primator',\n",
              " 'антим',\n",
              " 'matcha',\n",
              " 'кутик',\n",
              " 'ночь',\n",
              " 'helena',\n",
              " 'pol',\n",
              " 'рембэр',\n",
              " 'бутг',\n",
              " 'катынь',\n",
              " 'amat',\n",
              " 'atria',\n",
              " 'dari',\n",
              " 'зубочистка',\n",
              " 'people',\n",
              " 'idea',\n",
              " 'auten',\n",
              " 'maple&nut',\n",
              " 'ассортг',\n",
              " 'метеорит',\n",
              " 'берег',\n",
              " 'kids',\n",
              " 'ветчинашкольнаякур',\n",
              " 'гигиенич',\n",
              " 'ольц',\n",
              " 'sabal',\n",
              " 'рипас',\n",
              " 'summer',\n",
              " 'курицг',\n",
              " 'шпиг',\n",
              " 'минмл',\n",
              " 'pompelmo',\n",
              " 'празднич',\n",
              " 'oolong',\n",
              " 'гранд',\n",
              " 'фетакса',\n",
              " 'сул',\n",
              " 'новогель',\n",
              " 'блан',\n",
              " 'морсель',\n",
              " 'disin',\n",
              " 'ready',\n",
              " 'чп',\n",
              " 'tiret',\n",
              " 'ziolopex',\n",
              " 'тминг',\n",
              " 'марина',\n",
              " 'кольский',\n",
              " 'виногрг',\n",
              " 'touc',\n",
              " 'таман',\n",
              " 'bahlsen',\n",
              " 'neutrog',\n",
              " 'tait',\n",
              " 'гурман',\n",
              " 'rapid',\n",
              " 'royale',\n",
              " 'выдкг',\n",
              " 'киржач',\n",
              " 'перецкг',\n",
              " 'каштановый',\n",
              " 'gustafsкг',\n",
              " 'рубикон',\n",
              " 'печеньице',\n",
              " 'гранбираги',\n",
              " 'padano',\n",
              " 'европ',\n",
              " 'гриссон',\n",
              " 'ткань',\n",
              " 'schlader',\n",
              " 'топин',\n",
              " 'braz',\n",
              " 'дарнецкий',\n",
              " 'кедровоо',\n",
              " 'lim',\n",
              " 'бейлиз',\n",
              " 'nameсуп',\n",
              " 'финск',\n",
              " 'капитал',\n",
              " 'зеленодол']"
            ]
          },
          "metadata": {
            "tags": []
          },
          "execution_count": 106
        }
      ]
    },
    {
      "cell_type": "markdown",
      "metadata": {
        "id": "iMryvDENCAsX"
      },
      "source": [
        "Теперь стоит проверить качестсво слов, которых мы лишаемся при лемматизации. "
      ]
    },
    {
      "cell_type": "code",
      "metadata": {
        "id": "F0nDZUGw-5gE",
        "outputId": "7022e789-501d-4de1-bcf2-fe4ecd138d8f",
        "colab": {
          "base_uri": "https://localhost:8080/"
        }
      },
      "source": [
        "diff = list(set(words) - set(lemmas))[:50]\n",
        "for indx, word in enumerate(diff):\n",
        "  print(\"До : \",diff[indx], \"\\t\\t\\tПосле : \", morph.parse(word)[0].normal_form )"
      ],
      "execution_count": 107,
      "outputs": [
        {
          "output_type": "stream",
          "text": [
            "До :  слез \t\t\tПосле :  слеза\n",
            "До :  лопаткастол \t\t\tПосле :  лопаткастола\n",
            "До :  подтяг \t\t\tПосле :  подтяга\n",
            "До :  пятачки \t\t\tПосле :  пятачок\n",
            "До :  платиновая \t\t\tПосле :  платиновый\n",
            "До :  колбасасалями \t\t\tПосле :  колбасасаль\n",
            "До :  пехотная \t\t\tПосле :  пехотный\n",
            "До :  микрофиброй \t\t\tПосле :  микрофибра\n",
            "До :  сдоб \t\t\tПосле :  сдоба\n",
            "До :  конферен \t\t\tПосле :  конферена\n",
            "До :  мебели \t\t\tПосле :  мебель\n",
            "До :  господаря \t\t\tПосле :  господарь\n",
            "До :  мерло \t\t\tПосле :  мереть\n",
            "До :  лимонная \t\t\tПосле :  лимонный\n",
            "До :  хумус \t\t\tПосле :  хумуса\n",
            "До :  швейцарского \t\t\tПосле :  швейцарский\n",
            "До :  базарз \t\t\tПосле :  базарза\n",
            "До :  жевательные \t\t\tПосле :  жевательный\n",
            "До :  белладисеригнола \t\t\tПосле :  белладисеригнол\n",
            "До :  творогом \t\t\tПосле :  творог\n",
            "До :  цукатом \t\t\tПосле :  цукат\n",
            "До :  альмет \t\t\tПосле :  альмета\n",
            "До :  антипятин \t\t\tПосле :  антипятина\n",
            "До :  шипучее \t\t\tПосле :  шипучий\n",
            "До :  миндальной \t\t\tПосле :  миндальный\n",
            "До :  желейная \t\t\tПосле :  желейный\n",
            "До :  хорватские \t\t\tПосле :  хорватский\n",
            "До :  степей \t\t\tПосле :  степь\n",
            "До :  тайное \t\t\tПосле :  тайный\n",
            "До :  дождя \t\t\tПосле :  дождь\n",
            "До :  молле \t\t\tПосле :  молл\n",
            "До :  овсч \t\t\tПосле :  овсча\n",
            "До :  стиркиг \t\t\tПосле :  стиркига\n",
            "До :  армавирское \t\t\tПосле :  армавирский\n",
            "До :  калачики \t\t\tПосле :  калачик\n",
            "До :  бавлин \t\t\tПосле :  бавлина\n",
            "До :  мечников \t\t\tПосле :  мечник\n",
            "До :  пряное \t\t\tПосле :  пряный\n",
            "До :  любительские \t\t\tПосле :  любительский\n",
            "До :  ночей \t\t\tПосле :  ночь\n",
            "До :  авида \t\t\tПосле :  авид\n",
            "До :  втулки \t\t\tПосле :  втулка\n",
            "До :  молодильное \t\t\tПосле :  молодильный\n",
            "До :  краковска \t\t\tПосле :  краковск\n",
            "До :  баранья \t\t\tПосле :  бараний\n",
            "До :  мороженная \t\t\tПосле :  мороженный\n",
            "До :  цивильское \t\t\tПосле :  цивильский\n",
            "До :  пустыни \t\t\tПосле :  пустынь\n",
            "До :  джен \t\t\tПосле :  джена\n",
            "До :  сырников \t\t\tПосле :  сырник\n"
          ],
          "name": "stdout"
        }
      ]
    },
    {
      "cell_type": "markdown",
      "metadata": {
        "id": "PZDGOnB7IxN9"
      },
      "source": [
        "Можно заметить, что примерно в половине случаев, лемматизатор придумывает слова и не уменьшает пространство наших признаков. "
      ]
    },
    {
      "cell_type": "markdown",
      "metadata": {
        "id": "4XcLW0kjJWUN"
      },
      "source": [
        "Таким образом, можно сделать вывод, что леммантизация имеет относительно невысокое значение в данной таске и возможно не приведет к улучшению точности, тем более, что пространствов признаков для каждого текста будет считаться с помощью тф-идф и искуственно расширяться по средствам включения биграмм."
      ]
    },
    {
      "cell_type": "markdown",
      "metadata": {
        "id": "wlnouHNi71Ox"
      },
      "source": [
        "## MLP"
      ]
    },
    {
      "cell_type": "markdown",
      "metadata": {
        "id": "GFTkhs_q47lv"
      },
      "source": [
        "Согласно гипотезе Колмогорова, любую функцию можно апроксимировать трехслойным перцептроном с некоторыми параметрами, зависящиими от количества переменных. С него и начнем."
      ]
    },
    {
      "cell_type": "code",
      "metadata": {
        "id": "fUAMThdk3MKX"
      },
      "source": [
        "import numpy as np\n",
        "from sklearn.feature_extraction.text import TfidfTransformer\n",
        "from sklearn.model_selection import train_test_split\n",
        "from sklearn import metrics"
      ],
      "execution_count": 108,
      "outputs": []
    },
    {
      "cell_type": "markdown",
      "metadata": {
        "id": "qdYnTJQ9J7A7"
      },
      "source": [
        "Поделим данные на трейн и тест для того чтобы иметь возможность объективно оценить модели. При векторизации текстов используем тф-идф на уровне слова. Используем биграммы, чтобы отловить устойчивые сочетания в названии продуктов. Редкими словами будем пренебригать (меньше 5 вхождений), подключим стоп слова - наиболее частотные для этого датасета (12 - так как их частотности в несколько раз превышают последующие). "
      ]
    },
    {
      "cell_type": "code",
      "metadata": {
        "id": "-4zlOwLR73qp",
        "outputId": "47553e16-2304-48b4-88f2-f8b9cb82007a",
        "colab": {
          "base_uri": "https://localhost:8080/"
        }
      },
      "source": [
        "from sklearn.feature_extraction.text import TfidfVectorizer\n",
        "\n",
        "# эту строчку не меняйте, будете делать тестирование(между эпохами) на этой небольшой выборке \n",
        "text_trian, text_test, labels_train, labels_test =  train_test_split(train.cl_descr, train.labels, test_size=0.05, random_state=42)\n",
        "\n",
        "tf_transformer = TfidfVectorizer()\n",
        "\n",
        "tf_transformer.fit(text_trian)\n",
        "X_train_transformed = tf_transformer.transform(text_trian)\n",
        "X_test_transformed = tf_transformer.transform(text_test)\n",
        "labels_train = [int(x) for x in labels_train]\n",
        "labels_test = [int(x) for x in labels_test]\n",
        "X_train_transformed.shape # первая размерноть точно будет такой (350499, х)"
      ],
      "execution_count": 109,
      "outputs": [
        {
          "output_type": "execute_result",
          "data": {
            "text/plain": [
              "(95000, 41246)"
            ]
          },
          "metadata": {
            "tags": []
          },
          "execution_count": 109
        }
      ]
    },
    {
      "cell_type": "code",
      "metadata": {
        "id": "5mBxPWeH7J9W"
      },
      "source": [
        "import numpy as np\n",
        "from sklearn.metrics import classification_report\n",
        "from torch.utils.data import Dataset\n",
        "from torch.utils.data import DataLoader\n",
        "from torchvision.datasets import MNIST\n",
        "from torchvision import transforms\n",
        "import matplotlib.pyplot as plt\n",
        "from tqdm import tqdm\n",
        "from sklearn.metrics import accuracy_score\n",
        "import time"
      ],
      "execution_count": 110,
      "outputs": []
    },
    {
      "cell_type": "code",
      "metadata": {
        "id": "7sBSRo7CVKe8"
      },
      "source": [
        "import torch\n",
        "import numpy as np\n",
        "from torchvision import datasets\n",
        "from torchvision import transforms\n",
        "from torch.utils.data.sampler import SubsetRandomSampler\n",
        "\n",
        "class WordData(Dataset):\n",
        "    \n",
        "    def __init__(self, x_data, y_data):\n",
        "        \n",
        "        super().__init__()\n",
        "        \n",
        "        self.x_data = x_data #пусть будет сохранен в память класса\n",
        "        self.y_data = torch.LongTensor(y_data) #а это как тензор\n",
        "        \n",
        "    \n",
        "    def __len__(self): # объязательный метод для этого класса, нужно уметь отдавать длину датасета \n",
        "        \n",
        "        return self.x_data.shape[0] \n",
        "    \n",
        "    def __getitem__(self, idx): # объязательный метод для этого класса, нужно уметь отдавать один семпл с данными и лейблом\n",
        "        \n",
        "        x = self.x_data[idx].toarray() # Будьте аккуратны, когда используете sparse matrix, так как изначально преобразовать их в массив нельзя - память кончится, будем препращать в массив отдельные строчки\n",
        "        x = torch.FloatTensor(x) # преобразуем в тензор с флоат величинами\n",
        "        y = self.y_data[idx]\n",
        "        \n",
        "        return x, y\n",
        "\n",
        "\n",
        "dataset_train = WordData(X_train_transformed, labels_train)\n",
        "dataset_test = WordData(X_test_transformed, labels_test)\n",
        "\n",
        "batch_size = 32\n",
        "\n",
        "train_loader = DataLoader(dataset_train, batch_size=batch_size, shuffle=True)\n",
        "validation_loader =  DataLoader(dataset_test, batch_size=batch_size, shuffle=True)\n",
        "\n"
      ],
      "execution_count": 111,
      "outputs": []
    },
    {
      "cell_type": "code",
      "metadata": {
        "id": "MyoEqQsp7ROB"
      },
      "source": [
        "from math import sqrt\n",
        "class MLP(torch.nn.Module):\n",
        "    \n",
        "    def __init__(self, in_features, inner_features, inner_features2, out_features):\n",
        "        \n",
        "        # Главная задача этого метода - возможность использования в классе потомке, методов класса-родителя\n",
        "        # Вызываем __init__ родителя - torch.nn.Module\n",
        "        super().__init__()\n",
        "        \n",
        "        # определяем слои и все что захотим сохранять/использовать \n",
        "        # в целом трех слоев будет достаточно\n",
        "\n",
        "        self.linear_1 = torch.nn.Linear(in_features=in_features, out_features=inner_features) # out_features - количество категорий товаров, по которым вы хотите классифицировать, т.е. 138\n",
        "        self.linear_2 = torch.nn.Linear(in_features=inner_features, out_features=inner_features2) # out_features - количество категорий товаров, по которым вы хотите классифицировать, т.е. 138\n",
        "        self.linear_3 = torch.nn.Linear(in_features=inner_features2, out_features=out_features) # out_features - количество категорий товаров, по которым вы хотите классифицировать, т.е. 138\n",
        "        self.non_linear_function = torch.nn.ReLU()\n",
        "  \n",
        "    def forward(self, x):\n",
        "        \n",
        "        # наша привычная схема\n",
        "        \n",
        "        x = self.linear_1(x)\n",
        "        x = self.non_linear_function(x)\n",
        "        x = self.linear_2(x)\n",
        "        x = self.non_linear_function(x)\n",
        "        x = self.linear_3(x) # это должен быть послдений слой в котором меняется размерность, никаких нелинейностей применть не нужно, софтмакс в Торче встроен в в кросс-энтропию для оптимизации\n",
        "        \n",
        "        return x\n",
        "    "
      ],
      "execution_count": 112,
      "outputs": []
    },
    {
      "cell_type": "code",
      "metadata": {
        "id": "J5IQCaab72fT"
      },
      "source": [
        "model = MLP(in_features=X_train_transformed.shape[1], inner_features=1524, inner_features2=1024, out_features=138)"
      ],
      "execution_count": 113,
      "outputs": []
    },
    {
      "cell_type": "code",
      "metadata": {
        "id": "cQLW-m-J82dH",
        "outputId": "02021f1b-386d-450d-84be-66fd11bd5707",
        "colab": {
          "base_uri": "https://localhost:8080/"
        }
      },
      "source": [
        "model"
      ],
      "execution_count": 114,
      "outputs": [
        {
          "output_type": "execute_result",
          "data": {
            "text/plain": [
              "MLP(\n",
              "  (linear_1): Linear(in_features=41246, out_features=1524, bias=True)\n",
              "  (linear_2): Linear(in_features=1524, out_features=1024, bias=True)\n",
              "  (linear_3): Linear(in_features=1024, out_features=138, bias=True)\n",
              "  (non_linear_function): ReLU()\n",
              ")"
            ]
          },
          "metadata": {
            "tags": []
          },
          "execution_count": 114
        }
      ]
    },
    {
      "cell_type": "code",
      "metadata": {
        "id": "wAXwHfh2p1s2",
        "outputId": "cf54af41-20df-4e42-dbf2-82728db65f19",
        "colab": {
          "base_uri": "https://localhost:8080/"
        }
      },
      "source": [
        "for x, y in train_loader:\n",
        "  print(model(x).shape)\n",
        "  break #посмотрите внимательно на размерность"
      ],
      "execution_count": 115,
      "outputs": [
        {
          "output_type": "stream",
          "text": [
            "torch.Size([32, 1, 138])\n"
          ],
          "name": "stdout"
        }
      ]
    },
    {
      "cell_type": "code",
      "metadata": {
        "id": "c-4hYYZO87Rg"
      },
      "source": [
        "optimizer = torch.optim.Adam(params=model.parameters(), lr=0.001,  betas=(0.9, 0.999) ) # это один из крутых оптимизаторв, можете для начала опробовать SGD\n",
        "# aka loss function\n",
        "criterion = torch.nn.CrossEntropyLoss() # будем считать потери с помощью привычной кросс энтропии"
      ],
      "execution_count": 116,
      "outputs": []
    },
    {
      "cell_type": "code",
      "metadata": {
        "id": "XeQdxbcU9ng8"
      },
      "source": [
        "device = torch.device('cuda') if torch.cuda.is_available() else torch.device('cpu')\n",
        "model = model.to(device) # если мы работает на торче, можно оставить как есть; суть в том, что нашу модель можно перенести на видеокарту, \n",
        "                         # потом мы будем переводить туда и батчи с данными, это позволит нам обучаться быстрее, раз 5 как минимум"
      ],
      "execution_count": 117,
      "outputs": []
    },
    {
      "cell_type": "code",
      "metadata": {
        "id": "F99bT5uS9qNo",
        "outputId": "4b3bc035-8c41-416f-b688-64bd542fa8e9",
        "colab": {
          "base_uri": "https://localhost:8080/"
        }
      },
      "source": [
        "from sklearn.metrics import f1_score\n",
        "epochs = 2\n",
        "\n",
        "losses = []\n",
        "predictions = []\n",
        "\n",
        "for n_epoch in range(epochs):\n",
        "  print('Epoch #{}\\n'.format(n_epoch+1))\n",
        "\n",
        "  train_losses = []\n",
        "  train_predictions = []\n",
        "\n",
        "  progress_bar = tqdm(total=len(train_loader.dataset), desc='Epoch {}'.format(n_epoch + 1))\n",
        "\n",
        "\n",
        "  for x, y in train_loader:\n",
        "\n",
        "    optimizer.zero_grad()\n",
        "\n",
        "    x = x.squeeze(1).to(device) # так как наша модель уже на ГПУ нужно и данные тоже туда пренести, кстати функция сквиз здесь это нормально, просто у нас есть лишняя развмерность и мы от нее избавляемся\n",
        "    y = y.to(device)\n",
        "    outputs = model(x)\n",
        "\n",
        "    \n",
        "    loss = criterion(outputs, y)\n",
        "    loss.backward()\n",
        "    optimizer.step()\n",
        "    train_losses.append(loss.item())\n",
        "    losses.append(loss.item())\n",
        "\n",
        "    _, predicted = torch.max(outputs.data, 1)\n",
        "    train_predictions.append(predicted)\n",
        "    predictions.append(predicted)\n",
        "\n",
        "    \n",
        "    progress_bar.set_postfix(train_loss = np.mean(losses[-100:]))\n",
        "    progress_bar.update(x.shape[0])\n",
        "\n",
        "  progress_bar.close()\n",
        "    # допиште обучалку, при этом следите за размерностями\n",
        "\n",
        "  if type(predictions[0]) is not type(np.array([0])):\n",
        "    predictions = [x.cpu().numpy() for x in predictions[:-1]]\n",
        "  else:\n",
        "    predictions = predictions[:-1]\n",
        "\n",
        "  print('\\n\\nMean Loss after epoch #{0} - {1}'.format(str(n_epoch + 1), np.mean(losses)))\n",
        "\n",
        "  test_predicteds = []\n",
        "  test_labels = []\n",
        "  test_loss = []\n",
        "\n",
        "  with torch.no_grad():\n",
        "    for x, y  in validation_loader:\n",
        "      outputs = model(x.squeeze(1).to(device))\n",
        "      _, predicted = torch.max(outputs.cpu().data, 1)\n",
        "      loss = criterion(outputs.cpu(), y)\n",
        "      test_loss.append(loss.item())\n",
        "      test_labels.extend(y)\n",
        "      test_predicteds.extend(predicted)\n",
        "        \n",
        "\n",
        "  f = f1_score(test_predicteds, test_labels, average = 'weighted')  \n",
        "  print('\\nLoss on test: {}'.format(np.mean(test_loss)))   \n",
        "  print('F1 on test: {}\\n\\n'.format(f))\n",
        "  "
      ],
      "execution_count": 118,
      "outputs": [
        {
          "output_type": "stream",
          "text": [
            "Epoch 1:   0%|          | 96/95000 [00:00<02:10, 728.37it/s, train_loss=4.93]"
          ],
          "name": "stderr"
        },
        {
          "output_type": "stream",
          "text": [
            "Epoch #1\n",
            "\n"
          ],
          "name": "stdout"
        },
        {
          "output_type": "stream",
          "text": [
            "Epoch 1: 100%|██████████| 95000/95000 [02:06<00:00, 751.29it/s, train_loss=0.438]\n"
          ],
          "name": "stderr"
        },
        {
          "output_type": "stream",
          "text": [
            "\n",
            "\n",
            "Mean Loss after epoch #1 - 0.9423846570444292\n"
          ],
          "name": "stdout"
        },
        {
          "output_type": "stream",
          "text": [
            "Epoch 2:   0%|          | 96/95000 [00:00<02:08, 737.82it/s, train_loss=0.436]"
          ],
          "name": "stderr"
        },
        {
          "output_type": "stream",
          "text": [
            "\n",
            "Loss on test: 0.4995741246469841\n",
            "F1 on test: 0.872360747254678\n",
            "\n",
            "\n",
            "Epoch #2\n",
            "\n"
          ],
          "name": "stdout"
        },
        {
          "output_type": "stream",
          "text": [
            "Epoch 2: 100%|██████████| 95000/95000 [02:05<00:00, 758.62it/s, train_loss=0.227]\n"
          ],
          "name": "stderr"
        },
        {
          "output_type": "stream",
          "text": [
            "\n",
            "\n",
            "Mean Loss after epoch #2 - 0.5741355525788155\n",
            "\n",
            "Loss on test: 0.4853989980925041\n",
            "F1 on test: 0.8813334184883869\n",
            "\n",
            "\n"
          ],
          "name": "stdout"
        }
      ]
    },
    {
      "cell_type": "code",
      "metadata": {
        "id": "ASbVAK3rSduz",
        "outputId": "867972f5-19cb-49d5-827f-fb98e8f929e6",
        "colab": {
          "base_uri": "https://localhost:8080/",
          "height": 698
        }
      },
      "source": [
        "plt.figure(figsize=(14, 12))\n",
        "plt.plot(losses)\n",
        "plt.grid()\n",
        "plt.title('Training process')\n",
        "plt.xlabel('Iterations')\n",
        "plt.ylabel('Loss function');"
      ],
      "execution_count": 119,
      "outputs": [
        {
          "output_type": "display_data",
          "data": {
            "image/png": "[encoded data removed]",
            "text/plain": [
              "<Figure size 1008x864 with 1 Axes>"
            ]
          },
          "metadata": {
            "tags": [],
            "needs_background": "light"
          }
        }
      ]
    },
    {
      "cell_type": "code",
      "metadata": {
        "id": "p0fjRKBDSf8z"
      },
      "source": [
        ""
      ],
      "execution_count": null,
      "outputs": []
    },
    {
      "cell_type": "code",
      "metadata": {
        "id": "BeKzZ9z9eFiS"
      },
      "source": [
        ""
      ],
      "execution_count": null,
      "outputs": []
    }
  ]
}